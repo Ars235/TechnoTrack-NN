{
 "cells": [
  {
   "cell_type": "markdown",
   "metadata": {},
   "source": [
    "# Theoretical task\n",
    "\n",
    "Target variable $y\\sim Laplace(\\alpha, \\beta)$, $p(y = z) = \\frac{1}{2\\beta}exp(-\\frac{|{z-\\alpha}|}{\\beta})$, with $\\mathrm{E}[y] = \\alpha$ and $\\mathrm{Var}[y] = 2\\beta^2$.  \n",
    "Let $x_{(m\\times n)}$ - our data, $\\theta_{(n\\times1)}$ - vector of parameters.  \n",
    "Then $y$ may be represented as $f(x) = x\\theta + \\xi$,  \n",
    "where $\\xi\\sim N(0, \\sigma^2)$, and $\\mathrm{E}[f(x)] = x\\theta$, $\\mathrm{Var}[f(x)] = \\sigma^2$.\n",
    "Hence, $\\alpha = x\\theta$ and $2\\beta^2 = \\sigma^2$  \n",
    "\n",
    "So if we want to maximize likelihood, then:  \n",
    "\n",
    "$p(t|x, \\theta, \\sigma^2) = \\prod \\limits_{i=1}^m\\frac{1}{2\\beta}exp(-\\frac{|{t_i-\\alpha}|}{\\beta}) = \\prod \\limits_{i=1}^m\\frac{1}{\\sigma\\sqrt{2}}exp(-\\frac{\\sqrt{2}|{t_i-x_i\\theta}|}{\\sigma})$  \n",
    "$\\ln{p(t|x, \\theta, \\sigma^2)} = -\\sum \\limits_{i=1}^m\\frac{\\sqrt{2}|{t_i-x_i\\theta}|}{\\sigma} + m\\ln{\\frac{1}{\\sigma\\sqrt{2}}}$  \n",
    "Assuming that $\\sigma$ doesn't depend on target values, optimal $\\theta = argmin \\sum \\limits_{i=1}^m|{t_i-x_i\\theta}|$.  \n",
    "\n",
    "So if our target values have Laplace distribution, then we need to use _MAE_ as our _loss function_.\n",
    "\n",
    "### Bayesian approach\n",
    "In the case of _Bayesian approach_ we will maximize _posterior probability_ $p(\\theta|x) = \\frac{p(x|\\theta)p(\\theta)}{p(x)}$.  \n",
    "Hence, in this case we take into account distribution of our parameters $\\theta$.  \n",
    "\n",
    "\n",
    "$\\ln{p(\\theta|t)} = -\\sum \\limits_{i=1}^m\\frac{\\sqrt{2}|{t_i-x_i\\theta}|}{\\sigma} + m\\ln{\\frac{1}{\\sigma\\sqrt{2}}} + \\ln{p(\\theta)}$\n",
    "\n",
    "$\\theta\\sim Laplace(\\mu = 0, \\frac{\\Sigma}{\\lambda})$, where $\\mu$ is a vector of mean values of $\\theta$ and  \n",
    "$\\Sigma$ - identity matrix of covariance.\n",
    "\n",
    "$p(\\theta_{n\\times1}) = \\displaystyle f_{\\mathbf {\\theta} }(\\theta_{1},\\ldots ,\\theta_{n})={\\frac {2\\sqrt{\\lambda}}{(2\\pi )^{n/2}|{\\boldsymbol {\\Sigma }}|^{0.5}}}\\left({\\frac {\\lambda\\mathbf {\\theta}^{T}{\\boldsymbol {\\Sigma }}^{-1}\\mathbf {\\theta} }{2}}\\right)^{v/2}K_{v}\\left({\\sqrt {2\\mathbf {\\theta}^T{\\lambda\\boldsymbol {\\Sigma }}^{-1}\\mathbf {\\theta} }}\\right)$  \n",
    "$\\displaystyle v=(2-n)/2$.  \n",
    "$\\displaystyle K_v$ is the modified Bessel function of the second kind.\n",
    "\n",
    "$\\ln{p(\\theta)} = \\ln{\\frac{2}{(2\\pi)^k/2}} + \\frac{\\displaystyle v}{2}\\ln{(\\lambda\\frac{\\theta^T\\theta}{2})} + \\ln{K_{v}\\left({\\sqrt {2\\mathbf {\\theta}^T{\\lambda}\\mathbf {\\theta} }}\\right)}$  \n",
    "\n",
    "Hence $\\theta = argmin \\sum \\limits_{i=1}^m|{t_i-x_i\\theta}| + \\ln{(\\lambda\\frac{\\theta^T\\theta}{2})} + \\ln{K_{v}\\left({\\sqrt {2\\mathbf {\\theta}^T{\\lambda}\\mathbf {\\theta} }}\\right)}$\n",
    "Вот что делать с $K_v$ я не знаю"
   ]
  },
  {
   "cell_type": "code",
   "execution_count": 1,
   "metadata": {},
   "outputs": [],
   "source": [
    "import numpy as np\n",
    "import matplotlib.pyplot as plt\n",
    "import seaborn as sns\n",
    "from tqdm import tqdm\n",
    "%matplotlib inline"
   ]
  },
  {
   "cell_type": "markdown",
   "metadata": {},
   "source": [
    "# ------------------------------------------------MODEL----------------------------------------------------\n",
    "We will build _3-layer perceptron_ which will be trained, using _MNIST digits dataset_, to distinguish handwritten digits.  \n",
    "\n",
    "We'll follow the next steps:  \n",
    "\n",
    "1. Loading data  \n",
    "\n",
    "\n",
    "2. Feature analysis and engineering  \n",
    "\n",
    "\n",
    "3. Building the model:\n",
    "    * Define activation functions and hidden layers sizes\n",
    "    * Define the _loss function_\n",
    "    * Define _learning algorithm_  \n",
    "    * Implement through the code\n",
    "\n",
    "\n",
    "4. Train the model  \n",
    "\n",
    "\n",
    "5. Evaluate perfomance and optimize it  \n",
    "\n",
    "\n",
    "6. Make prediction"
   ]
  },
  {
   "cell_type": "markdown",
   "metadata": {},
   "source": [
    "# 1.Loading data  "
   ]
  },
  {
   "cell_type": "code",
   "execution_count": 2,
   "metadata": {
    "scrolled": false
   },
   "outputs": [
    {
     "name": "stdout",
     "output_type": "stream",
     "text": [
      "Train shape: (60000, 28, 28), Test shape: (10000, 28, 28)\n"
     ]
    }
   ],
   "source": [
    "mnist = np.load('./mnist.npz')\n",
    "x_train = mnist['x_train']\n",
    "y_train = mnist['y_train']\n",
    "x_test = mnist['x_test']\n",
    "y_test = mnist['y_test']\n",
    "print('Train shape: {}, Test shape: {}'.format(x_train.shape, x_test.shape))"
   ]
  },
  {
   "cell_type": "code",
   "execution_count": 3,
   "metadata": {},
   "outputs": [
    {
     "data": {
      "image/png": "[encoded data removed]",
      "text/plain": [
       "<Figure size 576x576 with 16 Axes>"
      ]
     },
     "metadata": {},
     "output_type": "display_data"
    }
   ],
   "source": [
    "fig, ax = plt.subplots(4, 4, figsize = (8, 8))\n",
    "for i in range(4):\n",
    "    for j in range(4):\n",
    "        ax[i, j].imshow(x_train[371*i + 125*j])\n",
    "        ax[i, j].set_title('label = %s' % y_train[371*i + 125*j])\n",
    "        ax[i, j].set_xticks([])\n",
    "        ax[i, j].set_yticks([])"
   ]
  },
  {
   "cell_type": "markdown",
   "metadata": {},
   "source": [
    "Data consists of 70000 samples.  \n",
    "Each sample is a 28x28 gray-scale image of a digit from 0 to 9. \n",
    "\n",
    "For convenience each image will be reshaped from 28x28 matrix into 28^2 = 784-element row.  \n",
    "Hence $x_{j}^{(i)}$ ($x_{ij}$ element of matrix *x_train*) represents _jth_ feature of _ith_ sample, or a single pixel of _(ith)_ image, _j_ goes from 1 to 784,  \n",
    "$x_0$ will represent _bias term_,  \n",
    "and $x^{(i)}$ is a row vector of features of _ith_ sample.   \n",
    "\n",
    "Each pixel has a single pixel-value from 0 to 255 associated with it,  \n",
    "indicating the lightness or darkness of that pixel, with higher number meaning lighter.  "
   ]
  },
  {
   "cell_type": "code",
   "execution_count": 4,
   "metadata": {},
   "outputs": [
    {
     "name": "stdout",
     "output_type": "stream",
     "text": [
      "Reshaped:\n",
      "Train shape: (60000, 784), Test shape: (10000, 784)\n"
     ]
    },
    {
     "data": {
      "text/plain": [
       "array([[0, 0, 0, ..., 0, 0, 0],\n",
       "       [0, 0, 0, ..., 0, 0, 0],\n",
       "       [0, 0, 0, ..., 0, 0, 0],\n",
       "       ...,\n",
       "       [0, 0, 0, ..., 0, 0, 0],\n",
       "       [0, 0, 0, ..., 0, 0, 0],\n",
       "       [0, 0, 0, ..., 0, 0, 0]], dtype=uint8)"
      ]
     },
     "execution_count": 4,
     "metadata": {},
     "output_type": "execute_result"
    }
   ],
   "source": [
    "x_train = x_train.reshape(x_train.shape[0], -1)\n",
    "y_train = y_train.reshape(y_train.shape[0], 1)\n",
    "\n",
    "x_test = x_test.reshape(x_test.shape[0], -1)\n",
    "y_test = y_test.reshape(y_test.shape[0], 1)\n",
    "\n",
    "print('Reshaped:')\n",
    "print('Train shape: {}, Test shape: {}'.format(x_train.shape, x_test.shape))\n",
    "x_train"
   ]
  },
  {
   "cell_type": "markdown",
   "metadata": {},
   "source": [
    "# 2.Feature analysis and engineering"
   ]
  },
  {
   "cell_type": "markdown",
   "metadata": {},
   "source": [
    "Data should be normalized"
   ]
  },
  {
   "cell_type": "code",
   "execution_count": 5,
   "metadata": {},
   "outputs": [],
   "source": [
    "def normalize_data(x1, x2 = None):\n",
    "    '''\n",
    "    Arguments:\n",
    "    x -- data tuple, e.g. (x_train, x_test)\n",
    "    \n",
    "    Returns:\n",
    "    x_normalized -- (x-Ex)/std(x)\n",
    "    '''\n",
    "    if x2 is not None:\n",
    "        x = np.concatenate((x1, x2), axis = 0)    \n",
    "    else:\n",
    "        x = x1.copy()\n",
    "    \n",
    "    Ex = np.mean(x, axis = 0)\n",
    "    std_x = np.std(x, axis = 0)\n",
    "    \n",
    "    x1_normalized = (x1 - Ex) / (std_x + 1e-10) # add 1e-10 to avoid division by zero\n",
    "    x2_normalized = (x2 - Ex) / (std_x + 1e-10)\n",
    "    \n",
    "    return x1_normalized, x2_normalized"
   ]
  },
  {
   "cell_type": "code",
   "execution_count": 6,
   "metadata": {},
   "outputs": [],
   "source": [
    "x_train, x_test = normalize_data(x_train, x_test)"
   ]
  },
  {
   "cell_type": "markdown",
   "metadata": {},
   "source": [
    "Target values *y_train* and *y_test* are now cosists of digits from _0_ to _9_,  \n",
    "\n",
    "it's not convenient to use this form for training, so we'll use _one-hot encoding_.\n",
    "\n",
    "If $y^{(i)} = 4$, then after encoding $y^{(i)} = (0, 0, 0, 1, 0, 0, 0, 0, 0, 0)$,  \n",
    "\n",
    "and target vector $y_{m\\times1}$ after ecnoding will have shape $(m, K)$, where $K$ - number of classes"
   ]
  },
  {
   "cell_type": "code",
   "execution_count": 7,
   "metadata": {},
   "outputs": [],
   "source": [
    "def one_hot(y, K):\n",
    "    '''\n",
    "    Argumnets:\n",
    "    y -- target vector\n",
    "    K -- number of classes\n",
    "    \n",
    "    Returns:\n",
    "    y_ext -- one-hot encoded vector y\n",
    "    '''\n",
    "    # expand the array\n",
    "    zero_pad = np.zeros((y.shape[0], K - 1))\n",
    "    y_ext = np.concatenate((y, zero_pad), axis = 1)\n",
    "    \n",
    "    # One-hot encoding\n",
    "    for i in range(y.shape[0]):\n",
    "        for j in range(K):\n",
    "            \n",
    "            y_ext[i, j] = 1 if y[i] == j else 0\n",
    "    \n",
    "    return y_ext"
   ]
  },
  {
   "cell_type": "code",
   "execution_count": 8,
   "metadata": {},
   "outputs": [
    {
     "data": {
      "text/plain": [
       "array([[0., 0., 0., ..., 0., 0., 0.],\n",
       "       [1., 0., 0., ..., 0., 0., 0.],\n",
       "       [0., 0., 0., ..., 0., 0., 0.],\n",
       "       ...,\n",
       "       [0., 0., 0., ..., 0., 0., 0.],\n",
       "       [0., 0., 0., ..., 0., 0., 0.],\n",
       "       [0., 0., 0., ..., 0., 1., 0.]])"
      ]
     },
     "execution_count": 8,
     "metadata": {},
     "output_type": "execute_result"
    }
   ],
   "source": [
    "K = 10 # number of classes\n",
    "\n",
    "y_train = one_hot(y_train, K)\n",
    "y_test = one_hot(y_test, K)\n",
    "y_train"
   ]
  },
  {
   "cell_type": "markdown",
   "metadata": {},
   "source": [
    "Now $y_{j}^{(i)}$ represents _ith_ image with digit equals to _j_, if $y_{j}^{(i)}$ = 1. Other values of row $y^{(i)}$ equals zero."
   ]
  },
  {
   "cell_type": "markdown",
   "metadata": {},
   "source": [
    "Let's divide *x_train* into _training set_ and _cross-validation set_."
   ]
  },
  {
   "cell_type": "code",
   "execution_count": 9,
   "metadata": {},
   "outputs": [
    {
     "name": "stdout",
     "output_type": "stream",
     "text": [
      "Training set shape: (50000, 784) Dev set shape: (10000, 784)\n"
     ]
    }
   ],
   "source": [
    "# Cross-validation set\n",
    "x_valid = x_train[50000:]\n",
    "y_valid = y_train[50000:]\n",
    "# Training set\n",
    "x_train = x_train[:50000]\n",
    "y_train = y_train[:50000]\n",
    "\n",
    "print('Training set shape: {} Dev set shape: {}'.format(x_train.shape, x_valid.shape))"
   ]
  },
  {
   "cell_type": "markdown",
   "metadata": {},
   "source": [
    "For neural networks data should have shape $(n, m)$, where _n_ is a number of features and _m_ is a number of training examples.  \n",
    "So we should transpose our data."
   ]
  },
  {
   "cell_type": "markdown",
   "metadata": {},
   "source": [
    "# Building the model\n",
    "We'll build 3-layer perceptron and train it with _Adam algorithm_.\n",
    "\n",
    "#### Network architecture:\n",
    "\n",
    "- _Input layer_ is our data $x_{n\\times1}^{(i)}$  \n",
    "- _Hidden layer_ with *tanh* activation function  \n",
    "- _Output layer_ with _softmax_ activation function.  \n",
    "\n",
    "Predicted target variable may be represented as:  \n",
    "$F(x) = \\Psi\\left(\\phi\\left( {x}W_1 + b_1 \\right)W_2 + b_2\\right)$  \n",
    "Where $\\Psi$ - _softmax_ function, $\\phi$ - _tanh_   \n",
    "\n",
    "Target variable $y$ has _multinomial distribution_ so we can use _cross entropy_ as our _loss function_.\n",
    "\n",
    "_Loss function and gradients_:\n",
    "1. $\\mathcal{L} = -\\frac{1}{m}\\sum^{m}_{i=1} {\\sum^{K}_{j=1} ({y_{j}^{(i)}\\ln{\\hat{y}_{j}^{(i)}})}}$, where $\\hat{y}_{j}^{(i)}$ is predicted target variable\n",
    "2. Each layer has its matrix of parameters $W$ and $b$ of _ith_ layer, $W^{(i)}$ and $b^{(i)}$ is a matrix of parameters of the _$ith$_ hidden layer. $(b^{(i)}, W^{(i)}) = \\begin{pmatrix}\n",
    "b_{1}^{(i)} & W_{11}^{(i)} & W_{12}^{(i)} & ...\\\\\n",
    "b_{2}^{(i)} & W_{21}^{(i)} & W_{22}^{(i)} & ...\\\\\n",
    "b_{3}^{(i)} & W_{31}^{(i)} & W_{32}^{(i)} & ...\\\\\n",
    ".                 & .                 & .            \\\\\n",
    "\\end{pmatrix}$  \n",
    "Shape of $W^{(i)}$ is $(n_{i}, n_{i-1})$, shape of $b^{(i)}$ is $(n_{i}, 1)$ where $n_i$ is number of nodes in _ith_ layer. Input layer is _0th_ layer.  "
   ]
  },
  {
   "cell_type": "markdown",
   "metadata": {},
   "source": [
    "### Train loop\n",
    "1. Initialize hyperparameters  \n",
    "\n",
    "\n",
    "2. Train loop:\n",
    "    * Compute target values $\\hat{y}^{(i)}$\n",
    "    * Compute _loss_ $\\mathcal{L} = -\\frac{1}{m}\\sum^{m}_{i=1} {\\sum^{K}_{j=1} ({y_{j}^{(i)}\\ln{\\hat{y}_{j}^{(i)}})}}$\n",
    "    * Compute gradients $\\frac{\\partial\\mathcal{L}}{\\partial\\Theta_{jk}^{(i)}}$\n",
    "    * Update parameters \n",
    "        - $W_{jk}^{(i)} = W_{jk}^{(i)} - \\alpha\\frac{\\partial\\mathcal{L}}{\\partial W_{jk}^{(i)}}$     \n",
    "        - $b_{j}^{(i)} = b_{j}^{(i)} - \\alpha\\frac{\\partial\\mathcal{L}}{\\partial b_{j}^{(i)}}$"
   ]
  },
  {
   "cell_type": "code",
   "execution_count": 10,
   "metadata": {},
   "outputs": [],
   "source": [
    "def random_mini_batches(X, Y, mini_batch_size = 256):\n",
    "    \"\"\"\n",
    "    Create a list of random mini batches from (X, Y)\n",
    "    \n",
    "    Arguments:\n",
    "    X - dataset, size = (n, m)\n",
    "    Y - label vecor, size = (number of labels, m)\n",
    "    \n",
    "    Return:\n",
    "    mini_batches - list of synchronous (mini_batch_X, mini_batch_Y)\n",
    "    \"\"\"\n",
    "    \n",
    "    m = X.shape[1]\n",
    "    mini_batches = list()\n",
    "    \n",
    "    permutation = list(np.random.permutation(m)) # create a list of permutations\n",
    "    shuffled_X = X[:, permutation]\n",
    "    shuffled_Y = Y[:, permutation].reshape((Y.shape[0], m))\n",
    "    \n",
    "    # Partition\n",
    "    num_complete_minibatches = np.floor(m/mini_batch_size).astype(int)\n",
    "    for k in range(num_complete_minibatches):\n",
    "        \n",
    "        mini_batch_X = shuffled_X[:, k*mini_batch_size : (k+1)*mini_batch_size]\n",
    "        mini_batch_Y = shuffled_Y[:, k*mini_batch_size : (k+1)*mini_batch_size]\n",
    "        \n",
    "        mini_batch = (mini_batch_X, mini_batch_Y)\n",
    "        mini_batches.append(mini_batch)\n",
    "        \n",
    "    # Handling the end casse (last mini-batch < mini_batch_size)\n",
    "    if m % mini_batch_size != 0:\n",
    "        \n",
    "        mini_batch_X = shuffled_X[:, mini_batch_size*(m // mini_batch_size) : ]\n",
    "        mini_batch_Y = shuffled_Y[:, mini_batch_size*(m // mini_batch_size) : ]\n",
    "        \n",
    "        mini_batch = (mini_batch_X, mini_batch_Y)\n",
    "        mini_batches.append(mini_batch)\n",
    "        \n",
    "    return mini_batches"
   ]
  },
  {
   "cell_type": "code",
   "execution_count": 11,
   "metadata": {},
   "outputs": [],
   "source": [
    "class Differentiable:\n",
    "    def __init__(self):\n",
    "        self.state = None\n",
    "        \n",
    "    def forward(self, **kwargs):\n",
    "        raise NotImplementedError()\n",
    "    def backward(self, **kwargs):\n",
    "        raise NotImplementedError()"
   ]
  },
  {
   "cell_type": "code",
   "execution_count": 12,
   "metadata": {},
   "outputs": [],
   "source": [
    "class loss(Differentiable):\n",
    "    def __init__(self):\n",
    "        super().__init__()\n",
    "        \n",
    "    def forward(self, **kwargs):\n",
    "        \n",
    "        self.state = 0.0\n",
    "        \n",
    "        loss_value = -1/kwargs['y'].shape[1] * np.sum(kwargs['y'] * np.log(kwargs['y_pred']))\n",
    "        \n",
    "        self.state = (kwargs['y'], kwargs['y_pred'])\n",
    "        \n",
    "        return loss_value\n",
    "    \n",
    "    def backward(self, **kwargs):\n",
    "        \n",
    "        partial_grad = -1/self.state[0].shape[1] * (self.state[1] / self.state[1])\n",
    "        \n",
    "        return partial_grad"
   ]
  },
  {
   "cell_type": "code",
   "execution_count": 13,
   "metadata": {},
   "outputs": [],
   "source": [
    "class Linear(Differentiable):\n",
    "    def __init__(self, dim):\n",
    "        super().__init__()\n",
    "        self.parameters = {'W' : None, 'b' : None}\n",
    "        self.dim = dim # shape of W, W.shape = (n_(i), n_(i-1)), where i is a number of the layer\n",
    "        \n",
    "    def __call__(self, X):\n",
    "        return self.forward(X)\n",
    "    \n",
    "    def backward(self, **kwargs):\n",
    "        \n",
    "        partial_grad = self.state\n",
    "        \n",
    "        return partial_grad\n",
    "    \n",
    "    def forward(self, X):\n",
    "        \n",
    "        assert X.ndim == 2, 'X be should 2-dimensional (m of objects, n of features)'\n",
    "        \n",
    "        if self.parameters['W'] is None or self.parameters['b'] is None:\n",
    "            self.parameters['W'] = np.random.randn(self.dim[0], self.dim[1]) * 0.01\n",
    "            self.parameters['b'] = np.zeros((self.dim[0], 1))\n",
    "            \n",
    "        self.state = X.T\n",
    "            \n",
    "        y_pred = np.dot(self.parameters['W'], X) + self.parameters['b']\n",
    "        \n",
    "        return y_pred"
   ]
  },
  {
   "cell_type": "code",
   "execution_count": 14,
   "metadata": {},
   "outputs": [],
   "source": [
    "class Activation(Differentiable):\n",
    "    def __init__(self):\n",
    "        super().__init__()\n",
    "        self.parameters = None\n",
    "    \n",
    "    def backward(self, **kwargs):\n",
    "        \n",
    "        partial_grad = 1- self.state**2\n",
    "        \n",
    "        return partial_grad\n",
    "    \n",
    "    def forward(self, **kwargs):\n",
    "        \n",
    "        y_pred = np.tanh(kwargs['Z'])\n",
    "        \n",
    "        self.state = y_pred\n",
    "        \n",
    "        return y_pred\n",
    "    \n",
    "    def _sigmoid(self, Z):\n",
    "        \n",
    "        return 1/(1 + np.exp(-Z))"
   ]
  },
  {
   "cell_type": "code",
   "execution_count": 15,
   "metadata": {},
   "outputs": [],
   "source": [
    "class Softmax(Differentiable):\n",
    "    def __init__(self):\n",
    "        super().__init__()\n",
    "        self.parameters = None\n",
    "        \n",
    "    def __call__(self, **kwargs):\n",
    "        return self.forward(X)\n",
    "    \n",
    "    def backward(self, **kwargs):\n",
    "        \n",
    "        \n",
    "        y = kwargs['y']\n",
    "        partial_grad = self.state * (self.state - y)\n",
    "        \n",
    "        return partial_grad\n",
    "    \n",
    "    def forward(self, **kwargs):\n",
    "        \n",
    "        y_pred = np.exp(kwargs['Z']) / np.sum(np.exp(kwargs['Z']), axis = 0)\n",
    "        self.state = y_pred\n",
    "        return y_pred"
   ]
  },
  {
   "cell_type": "code",
   "execution_count": 16,
   "metadata": {},
   "outputs": [],
   "source": [
    "class Perceptron(Differentiable):\n",
    "    def __init__(self, dims):\n",
    "        super().__init__()\n",
    "        \n",
    "        self.parameters = dict()\n",
    "        \n",
    "        self.dims = dims\n",
    "        \n",
    "        self.layer1 = Linear(dim = (self.dims[1], self.dims[0]))# linear function of layer 1\n",
    "        \n",
    "        self.layer1_act = Activation() # activation function of layer 1\n",
    "        \n",
    "        self.output = Linear(dim = (self.dims[2], self.dims[1])) # linear function of the output layer\n",
    "                             \n",
    "        self.output_act = Softmax() # activation function of the output layer\n",
    "        \n",
    "    def __call__(self, **kwargs):\n",
    "        return self.forward(X)\n",
    "    \n",
    "    def backward(self, **kwargs):\n",
    "        \n",
    "        loss_grad = kwargs['loss_grad']\n",
    "        y = kwargs['y']\n",
    "        \n",
    "        partial_grad1 = np.dot(loss_grad * self.output_act.backward(y = y) * self.layer1_act.backward(), self.layer1.backward())\n",
    "        partial_grad2 = np.dot(loss_grad * self.output_act.backward(y = y), self.output.backward())\n",
    "        \n",
    "        grads = {'dW1' : partial_grad1, 'dW2' : partial_grad2}\n",
    "        \n",
    "        return grads\n",
    "    \n",
    "    def forward(self, **kwargs):\n",
    "        \n",
    "        X = kwargs['X']\n",
    "        \n",
    "        Z1 = self.layer1(X)\n",
    "        A1 = self.layer1_act.forward(Z = Z1)\n",
    "        Z2 = self.output(A1)\n",
    "        A2 = self.output_act.forward(Z = Z2)\n",
    "        \n",
    "        self.state = A2\n",
    "        \n",
    "        y_pred = A2\n",
    "        \n",
    "        return y_pred\n",
    "    \n",
    "    \n",
    "    def update_parameters(self, learning_rate, grads):\n",
    "        \n",
    "        self.parameters['W1'] = self.layer1.parameters['W']\n",
    "        self.parameters['b1'] = self.layer1.parameters['b']\n",
    "        \n",
    "        self.parameters['W2'] = self.output.parameters['W']\n",
    "        self.parameters['b2'] = self.output.parameters['b']\n",
    "        \n",
    "        self.parameters['W1'] = self.parameters['W1'] - learning_rate * grads['dW1']\n",
    "        self.parameters['W2'] = self.parameters['W2'] - learning_rate * grads['dW2']\n",
    "        \n",
    "        self.layer1.parameters['W'] = self.parameters['W1']\n",
    "        self.layer1.parameters['b'] = self.parameters['b1']\n",
    "        \n",
    "        self.output.parameters['W'] = self.parameters['W2']\n",
    "        self.output.parameters['b'] = self.parameters['b2']"
   ]
  },
  {
   "cell_type": "code",
   "execution_count": 17,
   "metadata": {},
   "outputs": [],
   "source": [
    "def train_loop(X, y, model, loss_fn, epochs=100, learning_rate = 0.0001, mini_batch_size = 256):\n",
    "    \n",
    "    loss_history = list()\n",
    "    pbar = tqdm(total = epochs)\n",
    "    grads = {'dW1' : None, 'dW2' : None}\n",
    "    \n",
    "    for epoch in range(epochs):\n",
    "        \n",
    "        minibatches = random_mini_batches(X, y, mini_batch_size)\n",
    "        loss_value = 0\n",
    "        \n",
    "        for minibatch in minibatches:\n",
    "        \n",
    "            (minibatch_X, minibatch_Y) = minibatch\n",
    "            \n",
    "            y_pred = model.forward(X = minibatch_X)\n",
    "        \n",
    "            loss_value += loss_fn.forward(y = minibatch_Y, y_pred = y_pred)\n",
    "        \n",
    "            loss_grad = loss_fn.backward()\n",
    "        \n",
    "            grads['dW1'] = model.backward(loss_grad = loss_grad, y = minibatch_Y)['dW1']\n",
    "            grads['dW2'] = model.backward(loss_grad = loss_grad, y = minibatch_Y)['dW2']\n",
    "        \n",
    "        \n",
    "            model.update_parameters(learning_rate, grads)\n",
    "            \n",
    "        loss_value /= X.shape[1]\n",
    "        loss_history.append(loss_value)\n",
    "        pbar.update(1)\n",
    "        pbar.set_postfix({'loss': loss_value})\n",
    "        \n",
    "    pbar.close()\n",
    "    return loss_history"
   ]
  },
  {
   "cell_type": "code",
   "execution_count": 18,
   "metadata": {},
   "outputs": [],
   "source": [
    "X_train = x_train.T\n",
    "Y_train = y_train.T\n",
    "\n",
    "X_valid = x_valid.T\n",
    "Y_valid = y_valid.T\n",
    "\n",
    "X_test = x_test.T\n",
    "Y_test = y_test.T"
   ]
  },
  {
   "cell_type": "code",
   "execution_count": 19,
   "metadata": {},
   "outputs": [
    {
     "name": "stderr",
     "output_type": "stream",
     "text": [
      "100%|███████████████████████████████████████████████████████| 1000/1000 [10:09<00:00,  1.64it/s, loss=0.0112]\n"
     ]
    },
    {
     "data": {
      "text/plain": [
       "[<matplotlib.lines.Line2D at 0x11d438e6940>]"
      ]
     },
     "execution_count": 19,
     "metadata": {},
     "output_type": "execute_result"
    },
    {
     "data": {
      "image/png": "[encoded data removed]",
      "text/plain": [
       "<Figure size 432x288 with 1 Axes>"
      ]
     },
     "metadata": {
      "needs_background": "light"
     },
     "output_type": "display_data"
    }
   ],
   "source": [
    "loss_fn = loss()\n",
    "\n",
    "dims = [X_train.shape[0], 10, Y_train.shape[0]]\n",
    "\n",
    "model = Perceptron(dims)\n",
    "loss_history = train_loop(X_train, Y_train, model, loss_fn, epochs = 1000, learning_rate = 0.0001)\n",
    "\n",
    "plt.plot(loss_history)"
   ]
  },
  {
   "cell_type": "code",
   "execution_count": 22,
   "metadata": {},
   "outputs": [],
   "source": [
    "Y_pred = model.forward(X = X_test, y = Y_test)"
   ]
  },
  {
   "cell_type": "code",
   "execution_count": 23,
   "metadata": {},
   "outputs": [
    {
     "data": {
      "text/plain": [
       "array([[0.16426951, 0.0399721 , 0.13883711, ..., 0.17325418, 0.09412282,\n",
       "        0.04520539],\n",
       "       [0.07895771, 0.10158257, 0.06051278, ..., 0.08190197, 0.08935089,\n",
       "        0.12840983],\n",
       "       [0.14779556, 0.04668969, 0.11072763, ..., 0.14999732, 0.11302304,\n",
       "        0.05264164],\n",
       "       ...,\n",
       "       [0.03653363, 0.20733829, 0.07635253, ..., 0.03921055, 0.12071302,\n",
       "        0.16380433],\n",
       "       [0.10672156, 0.07546361, 0.09657794, ..., 0.08873747, 0.08007232,\n",
       "        0.10998589],\n",
       "       [0.03814542, 0.20416523, 0.08345839, ..., 0.0379778 , 0.11535812,\n",
       "        0.16278502]])"
      ]
     },
     "execution_count": 23,
     "metadata": {},
     "output_type": "execute_result"
    }
   ],
   "source": [
    "Y_pred"
   ]
  },
  {
   "cell_type": "code",
   "execution_count": 24,
   "metadata": {},
   "outputs": [],
   "source": [
    "Y_pred = np.argmax(Y_pred, axis = 0)"
   ]
  },
  {
   "cell_type": "code",
   "execution_count": 25,
   "metadata": {},
   "outputs": [
    {
     "data": {
      "text/plain": [
       "array([0, 7, 0, ..., 0, 7, 7], dtype=int64)"
      ]
     },
     "execution_count": 25,
     "metadata": {},
     "output_type": "execute_result"
    }
   ],
   "source": [
    "Y_pred"
   ]
  },
  {
   "cell_type": "code",
   "execution_count": 28,
   "metadata": {},
   "outputs": [
    {
     "data": {
      "text/plain": [
       "<seaborn.axisgrid.FacetGrid at 0x11d46db8040>"
      ]
     },
     "execution_count": 28,
     "metadata": {},
     "output_type": "execute_result"
    },
    {
     "data": {
      "image/png": "[encoded data removed]",
      "text/plain": [
       "<Figure size 360x360 with 1 Axes>"
      ]
     },
     "metadata": {
      "needs_background": "light"
     },
     "output_type": "display_data"
    },
    {
     "data": {
      "image/png": "[encoded data removed]",
      "text/plain": [
       "<Figure size 360x360 with 1 Axes>"
      ]
     },
     "metadata": {
      "needs_background": "light"
     },
     "output_type": "display_data"
    }
   ],
   "source": [
    "sns.displot(np.argmax(Y_test, axis = 0))\n",
    "sns.displot(Y_pred)"
   ]
  }
 ],
 "metadata": {
  "kernelspec": {
   "display_name": "Python 3",
   "language": "python",
   "name": "python3"
  },
  "language_info": {
   "codemirror_mode": {
    "name": "ipython",
    "version": 3
   },
   "file_extension": ".py",
   "mimetype": "text/x-python",
   "name": "python",
   "nbconvert_exporter": "python",
   "pygments_lexer": "ipython3",
   "version": "3.8.6"
  }
 },
 "nbformat": 4,
 "nbformat_minor": 4
}

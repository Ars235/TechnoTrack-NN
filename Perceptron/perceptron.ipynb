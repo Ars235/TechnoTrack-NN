{
 "cells": [
  {
   "cell_type": "code",
   "execution_count": 1,
   "metadata": {},
   "outputs": [],
   "source": [
    "import numpy as np\n",
    "np.random.seed(1)\n",
    "import pandas as pd\n",
    "import matplotlib.pyplot as plt\n",
    "import seaborn as sns\n",
    "%matplotlib inline"
   ]
  },
  {
   "cell_type": "markdown",
   "metadata": {},
   "source": [
    "# Theoretical task\n",
    "\n",
    "Target variable $y\\sim Laplace(\\alpha, \\beta)$, $p(y = z) = \\frac{1}{2\\beta}exp(-\\frac{|{z-\\alpha}|}{\\beta})$, with $\\mathrm{E}[y] = \\alpha$ and $\\mathrm{Var}[y] = 2\\beta^2$.  \n",
    "Let $x_{(m\\times n)}$ - our data, $\\theta_{(n\\times1)}$ - vector of parameters.  \n",
    "Then $y$ may be represented as $f(x) = x\\theta + \\xi$,  \n",
    "where $\\xi\\sim N(0, \\sigma^2)$, and $\\mathrm{E}[f(x)] = x\\theta$, $\\mathrm{Var}[f(x)] = \\sigma^2$.\n",
    "Hence, $\\alpha = x\\theta$ and $2\\beta^2 = \\sigma^2$  \n",
    "\n",
    "So if we want to maximize likelihood, then:  \n",
    "\n",
    "$p(t|x, \\theta, \\sigma^2) = \\prod \\limits_{i=1}^m\\frac{1}{2\\beta}exp(-\\frac{|{t_i-\\alpha}|}{\\beta}) = \\prod \\limits_{i=1}^m\\frac{1}{\\sigma\\sqrt{2}}exp(-\\frac{\\sqrt{2}|{t_i-x_i\\theta}|}{\\sigma})$  \n",
    "$\\ln{p(t|x, \\theta, \\sigma^2)} = -\\sum \\limits_{i=1}^m\\frac{\\sqrt{2}|{t_i-x_i\\theta}|}{\\sigma} + m\\ln{\\frac{1}{\\sigma\\sqrt{2}}}$  \n",
    "Assuming that $\\sigma$ doesn't depend on target values, optimal $\\theta = argmin \\sum \\limits_{i=1}^m|{t_i-x_i\\theta}|$.  \n",
    "\n",
    "So if our target values have Laplace distribution, then we need to use _MAE_ as our _loss function_.\n",
    "\n",
    "### Bayesian approach\n",
    "In the case of _Bayesian approach_ we will maximize _posterior probability_ $p(\\theta|x) = \\frac{p(x|\\theta)p(\\theta)}{p(x)}$.  \n",
    "Hence, in this case we take into account distribution of our parameters $\\theta$.  \n",
    "\n",
    "\n",
    "$\\ln{p(\\theta|t)} = -\\sum \\limits_{i=1}^m\\frac{\\sqrt{2}|{t_i-x_i\\theta}|}{\\sigma} + m\\ln{\\frac{1}{\\sigma\\sqrt{2}}} + \\ln{p(\\theta)}$\n",
    "\n",
    "$\\theta\\sim Laplace(\\mu = 0, \\frac{\\Sigma}{\\lambda})$, where $\\mu$ is a vector of mean values of $\\theta$ and  \n",
    "$\\Sigma$ - identity matrix of covariance.\n",
    "\n",
    "$p(\\theta_{n\\times1}) = \\displaystyle f_{\\mathbf {\\theta} }(\\theta_{1},\\ldots ,\\theta_{n})={\\frac {2\\sqrt{\\lambda}}{(2\\pi )^{n/2}|{\\boldsymbol {\\Sigma }}|^{0.5}}}\\left({\\frac {\\lambda\\mathbf {\\theta}^{T}{\\boldsymbol {\\Sigma }}^{-1}\\mathbf {\\theta} }{2}}\\right)^{v/2}K_{v}\\left({\\sqrt {2\\mathbf {\\theta}^T{\\lambda\\boldsymbol {\\Sigma }}^{-1}\\mathbf {\\theta} }}\\right)$  \n",
    "$\\displaystyle v=(2-n)/2$.  \n",
    "$\\displaystyle K_v$ is the modified Bessel function of the second kind.\n",
    "\n",
    "$\\ln{p(\\theta)} = \\ln{\\frac{2}{(2\\pi)^k/2}} + \\frac{\\displaystyle v}{2}\\ln{(\\lambda\\frac{\\theta^T\\theta}{2})} + \\ln{K_{v}\\left({\\sqrt {2\\mathbf {\\theta}^T{\\lambda}\\mathbf {\\theta} }}\\right)}$  \n",
    "\n",
    "Hence $\\theta = argmin (\\sum \\limits_{i=1}^m|{t_i-x_i\\theta}| + \\ln{(\\lambda\\frac{\\theta^T\\theta}{2})} + \\ln{K_{v}\\left({\\sqrt {2\\mathbf {\\theta}^T{\\lambda}\\mathbf {\\theta} }}\\right)})$"
   ]
  },
  {
   "cell_type": "markdown",
   "metadata": {},
   "source": [
    "# ------------------------------------------------MODEL----------------------------------------------------\n",
    "We will build _3-layer perceptron_ which will be trained, using _MNIST digits dataset_, to distinguish handwritten digits.  \n",
    "\n",
    "We'll follow the next steps:  \n",
    "\n",
    "1. Loading data  \n",
    "\n",
    "\n",
    "2. Feature analysis and engineering  \n",
    "\n",
    "\n",
    "3. Building the model:\n",
    "    * Define activation functions and hidden layers sizes\n",
    "    * Define the _loss function_\n",
    "    * Define _learning algorithm_  \n",
    "    * Implement through the code\n",
    "\n",
    "\n",
    "4. Train the model  \n",
    "\n",
    "\n",
    "5. Evaluate perfomance and optimize it  \n",
    "\n",
    "\n",
    "6. Make prediction"
   ]
  },
  {
   "cell_type": "markdown",
   "metadata": {},
   "source": [
    "# Loading the data"
   ]
  },
  {
   "cell_type": "code",
   "execution_count": 2,
   "metadata": {},
   "outputs": [
    {
     "name": "stdout",
     "output_type": "stream",
     "text": [
      "Train shape: (60000, 28, 28), Test shape: (10000, 28, 28)\n"
     ]
    }
   ],
   "source": [
    "mnist = np.load('./mnist.npz')\n",
    "x_train = mnist['x_train']\n",
    "y_train = mnist['y_train']\n",
    "x_test = mnist['x_test']\n",
    "y_test = mnist['y_test']\n",
    "print('Train shape: {}, Test shape: {}'.format(x_train.shape, x_test.shape))"
   ]
  },
  {
   "cell_type": "code",
   "execution_count": 3,
   "metadata": {
    "scrolled": false
   },
   "outputs": [
    {
     "data": {
      "image/png": "[encoded data removed]",
      "text/plain": [
       "<Figure size 576x576 with 16 Axes>"
      ]
     },
     "metadata": {},
     "output_type": "display_data"
    }
   ],
   "source": [
    "fig, ax = plt.subplots(4, 4, figsize = (8, 8))\n",
    "for i in range(4):\n",
    "    for j in range(4):\n",
    "        ax[i, j].imshow(x_train[371*i + 125*j])\n",
    "        ax[i, j].set_title('label = %s' % y_train[371*i + 125*j])\n",
    "        ax[i, j].set_xticks([])\n",
    "        ax[i, j].set_yticks([])"
   ]
  },
  {
   "cell_type": "markdown",
   "metadata": {},
   "source": [
    "Training data consists of 42000 training examples.  \n",
    "Each training example is a 28x28 gray-scale images with a number from 0 to 9.  \n",
    "For convenience each image was reshaped from 28x28 matrix into 28^2 = 784-element row.  \n",
    "Each pixel has a single pixel-value associated with it,  \n",
    "indicating the lightness or darkness of that pixel, with higher numbers meaning lighter.  \n",
    "  \n",
    "\n",
    "The data should be reshaped from _(m, 28, 28)_ to _(m, n)_, where _n = 28*28 = 784_   \n",
    "Each pixel will be denoted as $x^{(i)}_{j}$, which means pixel _j_ of the _ith_ image. "
   ]
  },
  {
   "cell_type": "code",
   "execution_count": 4,
   "metadata": {},
   "outputs": [
    {
     "name": "stdout",
     "output_type": "stream",
     "text": [
      "Reshaped:\n",
      "Train shape: (60000, 784), Test shape: (10000, 784)\n"
     ]
    },
    {
     "data": {
      "text/plain": [
       "array([[0, 0, 0, ..., 0, 0, 0],\n",
       "       [0, 0, 0, ..., 0, 0, 0],\n",
       "       [0, 0, 0, ..., 0, 0, 0],\n",
       "       ...,\n",
       "       [0, 0, 0, ..., 0, 0, 0],\n",
       "       [0, 0, 0, ..., 0, 0, 0],\n",
       "       [0, 0, 0, ..., 0, 0, 0]], dtype=uint8)"
      ]
     },
     "execution_count": 4,
     "metadata": {},
     "output_type": "execute_result"
    }
   ],
   "source": [
    "x_train = x_train.reshape(x_train.shape[0], -1)\n",
    "y_train = y_train.reshape(y_train.shape[0], 1)\n",
    "\n",
    "x_test = x_test.reshape(x_test.shape[0], -1)\n",
    "y_test = y_test.reshape(y_test.shape[0], 1)\n",
    "\n",
    "print('Reshaped:')\n",
    "print('Train shape: {}, Test shape: {}'.format(x_train.shape, x_test.shape))\n",
    "x_train"
   ]
  },
  {
   "cell_type": "markdown",
   "metadata": {},
   "source": [
    "# Feature analysis and engineering"
   ]
  },
  {
   "cell_type": "markdown",
   "metadata": {},
   "source": [
    "Data should be normalized"
   ]
  },
  {
   "cell_type": "code",
   "execution_count": 5,
   "metadata": {},
   "outputs": [],
   "source": [
    "def normalize_data(x1, x2 = None):\n",
    "    '''\n",
    "    Arguments:\n",
    "    x - data tuple, e.g. (x_train, x_test)\n",
    "    \n",
    "    Return:\n",
    "    x_normalized - (x-Ex)/std(x)\n",
    "    '''\n",
    "    if x2 is not None:\n",
    "        x = np.concatenate((x1, x2), axis = 0)    \n",
    "    else:\n",
    "        x = x1.copy()\n",
    "    \n",
    "    Ex = np.mean(x, axis = 0)\n",
    "    std_x = np.std(x, axis = 0)\n",
    "    \n",
    "    x1_normalized = (x1 - Ex) / (std_x + 1e-10) # add 1e-10 to avoid division by zero\n",
    "    x2_normalized = (x2 - Ex) / (std_x + 1e-10)\n",
    "    \n",
    "    return x1_normalized, x2_normalized"
   ]
  },
  {
   "cell_type": "code",
   "execution_count": 6,
   "metadata": {},
   "outputs": [],
   "source": [
    "x_train, x_test = normalize_data(x_train, x_test)"
   ]
  },
  {
   "cell_type": "markdown",
   "metadata": {},
   "source": [
    "Distribution of the target values"
   ]
  },
  {
   "cell_type": "code",
   "execution_count": 7,
   "metadata": {},
   "outputs": [
    {
     "data": {
      "text/plain": [
       "<AxesSubplot:ylabel='Count'>"
      ]
     },
     "execution_count": 7,
     "metadata": {},
     "output_type": "execute_result"
    },
    {
     "data": {
      "image/png": "[encoded data removed]",
      "text/plain": [
       "<Figure size 432x288 with 1 Axes>"
      ]
     },
     "metadata": {
      "needs_background": "light"
     },
     "output_type": "display_data"
    }
   ],
   "source": [
    "sns.histplot(y_train)"
   ]
  },
  {
   "cell_type": "markdown",
   "metadata": {},
   "source": [
    "Target vectors consist of digits from _0_ to _9_,  \n",
    "\n",
    "it's not convenient to use this form for training, so we'll use _one-hot encoding_.\n",
    "\n",
    "If $y^{(i)} = 4$, then after encoding $y^{(i)} = (0, 0, 0, 1, 0, 0, 0, 0, 0, 0)$,  \n",
    "\n",
    "and target vector $y_{m\\times1}$ after ecnoding will have shape $(m, K)$, where $K$ - number of classes"
   ]
  },
  {
   "cell_type": "code",
   "execution_count": 8,
   "metadata": {},
   "outputs": [],
   "source": [
    "def one_hot(y, K):\n",
    "    '''\n",
    "    Argumnets:\n",
    "    y - target vector\n",
    "    K - number of classes\n",
    "    \n",
    "    Returns:\n",
    "    y_ext - one-hot encoded vector y\n",
    "    '''\n",
    "    # expand the array\n",
    "    zero_pad = np.zeros((y.shape[0], K - 1))\n",
    "    y_ext = np.concatenate((y, zero_pad), axis = 1)\n",
    "    \n",
    "    # One-hot encoding\n",
    "    for i in range(y.shape[0]):\n",
    "        for j in range(K):\n",
    "            \n",
    "            y_ext[i, j] = 1 if y[i] == j else 0\n",
    "    \n",
    "    return y_ext"
   ]
  },
  {
   "cell_type": "code",
   "execution_count": 9,
   "metadata": {},
   "outputs": [
    {
     "data": {
      "text/plain": [
       "array([[0., 0., 0., ..., 0., 0., 0.],\n",
       "       [1., 0., 0., ..., 0., 0., 0.],\n",
       "       [0., 0., 0., ..., 0., 0., 0.],\n",
       "       ...,\n",
       "       [0., 0., 0., ..., 0., 0., 0.],\n",
       "       [0., 0., 0., ..., 0., 0., 0.],\n",
       "       [0., 0., 0., ..., 0., 1., 0.]])"
      ]
     },
     "execution_count": 9,
     "metadata": {},
     "output_type": "execute_result"
    }
   ],
   "source": [
    "K = 10 # number of classes\n",
    "\n",
    "y_train = one_hot(y_train, K)\n",
    "y_test = one_hot(y_test, K)\n",
    "y_train"
   ]
  },
  {
   "cell_type": "markdown",
   "metadata": {},
   "source": [
    "Now $y_{j}^{(i)}$ represents _ith_ image with digit equals to _j_, if $y_{j}^{(i)}$ = 1. Other values of row $y^{(i)}$ equals zero."
   ]
  },
  {
   "cell_type": "markdown",
   "metadata": {},
   "source": [
    "Let's divide *x_train* into _training set_ and _cross-validation set_."
   ]
  },
  {
   "cell_type": "code",
   "execution_count": 10,
   "metadata": {},
   "outputs": [
    {
     "name": "stdout",
     "output_type": "stream",
     "text": [
      "Training set shape: (50000, 784) Dev set shape: (10000, 784)\n"
     ]
    }
   ],
   "source": [
    "# Cross-validation set\n",
    "x_valid = x_train[50000:]\n",
    "y_valid = y_train[50000:]\n",
    "# Training set\n",
    "x_train = x_train[:50000]\n",
    "y_train = y_train[:50000]\n",
    "\n",
    "print('Training set shape: {} Dev set shape: {}'.format(x_train.shape, x_valid.shape))"
   ]
  },
  {
   "cell_type": "markdown",
   "metadata": {},
   "source": [
    "Change shape from _(m, n)_ to _(n, m)_"
   ]
  },
  {
   "cell_type": "code",
   "execution_count": 11,
   "metadata": {},
   "outputs": [],
   "source": [
    "X_train = x_train.T\n",
    "Y_train = y_train.T\n",
    "\n",
    "X_valid = x_valid.T\n",
    "Y_valid = y_valid.T\n",
    "\n",
    "X_test = x_test.T\n",
    "Y_test = y_test.T"
   ]
  },
  {
   "cell_type": "markdown",
   "metadata": {},
   "source": [
    "# Building the model\n",
    "We'll build 3-layer perceptron and train it with _Adam algorithm_.\n",
    "\n",
    "#### Network architecture:\n",
    "\n",
    "- _Input layer_ is our data $x_{n\\times1}^{(i)}$  \n",
    "- _Hidden layer_ with *sigmoid* activation function. $\\sigma(x) = \\frac{1}{1 + e^{-x}}$  \n",
    "- _Output layer_ with _softmax_ activation function. $y = (y_1, ... y_n), softmax(y_1) = \\frac{e^{y_1}}{\\sum_{i=1}^{n}e^{y_i}}$\n",
    "\n",
    "Predicted target variable may be represented as:  \n",
    "$F(x) = \\Psi\\left(\\phi\\left( {x}W_1 + b_1 \\right)W_2 + b_2\\right)$  \n",
    "Where $\\Psi$ - _softmax_ function, $\\phi$ - _sigmoid_   \n",
    "\n",
    "Target variable $y$ has _multinomial distribution_ so we can use _cross entropy_ as our _loss function_.\n",
    "\n",
    "_Loss function and gradients_:\n",
    "1. $\\mathcal{L} = -\\frac{1}{m}\\sum^{m}_{i=1} {\\sum^{K}_{j=1} ({y_{j}^{(i)}\\ln{\\hat{y}_{j}^{(i)}})}}$, where $\\hat{y}_{j}^{(i)}$ is predicted target variable\n",
    "2. Each layer has its matrix of parameters $W$ and $b$ of _ith_ layer, $W^{(i)}$ and $b^{(i)}$ is a matrix of parameters of the _$ith$_ hidden layer. $(b^{(i)}, W^{(i)}) = \\begin{pmatrix}\n",
    "b_{1}^{(i)} & W_{11}^{(i)} & W_{12}^{(i)} & ...\\\\\n",
    "b_{2}^{(i)} & W_{21}^{(i)} & W_{22}^{(i)} & ...\\\\\n",
    "b_{3}^{(i)} & W_{31}^{(i)} & W_{32}^{(i)} & ...\\\\\n",
    ".                 & .                 & .            \\\\\n",
    "\\end{pmatrix}$  \n",
    "Shape of $W^{(i)}$ is $(n_{i}, n_{i-1})$, shape of $b^{(i)}$ is $(n_{i}, 1)$ where $n_i$ is number of nodes in _ith_ layer. Input layer is _0th_ layer.  "
   ]
  },
  {
   "cell_type": "markdown",
   "metadata": {},
   "source": [
    "Training dataset will be divided into minibatches, and during 1 epoch _Adam_ will make _k_ steps, where _k_ is a number of mini batches.  \n",
    "The loss and the gradients will be computed on each minibatch.\n",
    "\n",
    "### Train loop\n",
    "1. Initialize hyperparameters  \n",
    "\n",
    "\n",
    "2. Train loop:\n",
    "    * Divide training and cross-validation set into minibatches\n",
    "    * For minibatch in minibatches:\n",
    "        * Compute target values $\\hat{y}^{(i)}$\n",
    "        * Compute _loss_ $\\mathcal{L} = -\\frac{1}{m}\\sum^{m}_{i=1} {\\sum^{K}_{j=1} ({y_{j}^{(i)}\\ln{\\hat{y}_{j}^{(i)}})}} + \\frac{\\lambda}{m}\\sum {W_{jk}^2}$, where $\\lambda$ - regularization hyperparameter\n",
    "        * Compute gradients $\\frac{\\partial\\mathcal{L}}{\\partial\\Theta_{jk}^{(i)}}$\n",
    "        * Compute _Adam_ variables (moving averages):  \n",
    "        $v_{jk}^{(i)} = \\frac{\\beta_1v_{jk}^{(i)} + (1-\\beta_1)\\frac{\\partial\\mathcal{L}}{\\partial W_{jk}^{(i)}}}{\\sqrt{1 - \\beta_1^t}}$, $s_{jk}^{(i)} = \\frac{\\beta_2s_{jk}^{(i)} + (1-\\beta_2)\\frac{\\partial\\mathcal{L}}{\\partial W_{jk}^{(i)}}}{\\sqrt{1 - \\beta_2^t}}$where (i) - *ith* layer, _t_ - number of epoch, $\\beta_1 \\sim 0.9, \\beta_2 \\sim 0.999$  \n",
    "        For _Adam_ variables for _bias term b_ we use gradients with the respect to _b_ instead of the ones with the respect to _W_\n",
    "        \n",
    "        * Update parameters \n",
    "            - $W_{jk}^{(i)} = W_{jk}^{(i)} - \\alpha\\frac{v_{jk}^{(i)}}{\\sqrt{s_{jk}^{(i)}} + \\epsilon}$     \n",
    "            - $b_{j}^{(i)} = b_{j}^{(i)} - \\alpha\\frac{v_{jk}^{(i)}}{\\sqrt{s_{jk}^{(i)}} + \\epsilon}$, $\\epsilon \\sim 10^-8$ just to avoid _division by zero_.\n",
    "    "
   ]
  },
  {
   "cell_type": "code",
   "execution_count": 12,
   "metadata": {},
   "outputs": [],
   "source": [
    "def sigmoid(Z):\n",
    "    \"\"\"\n",
    "    Arguments:\n",
    "    Z - a scalar or numpy array of any size\n",
    "    \n",
    "    Return:\n",
    "    sigmoid(Z)\n",
    "    \"\"\"\n",
    "    \n",
    "    return 1/(1 + np.exp(-Z))"
   ]
  },
  {
   "cell_type": "code",
   "execution_count": 13,
   "metadata": {},
   "outputs": [],
   "source": [
    "def softmax(Z):\n",
    "    \"\"\"\n",
    "    Arguments:\n",
    "    Z - numpy array of any size\n",
    "    \n",
    "    Return:\n",
    "    softmax(Z) = exp(Zi) / sum(exp(Zi))\n",
    "    \"\"\"\n",
    "    \n",
    "    A = np.exp(Z) / np.sum(np.exp(Z), axis = 0)\n",
    "    \n",
    "    return A"
   ]
  },
  {
   "cell_type": "code",
   "execution_count": 14,
   "metadata": {},
   "outputs": [],
   "source": [
    "def random_mini_batches(X, Y, mini_batch_size = 256):\n",
    "    \"\"\"\n",
    "    Create a list of random mini batches from (X, Y)\n",
    "    \n",
    "    Arguments:\n",
    "    X - dataset, size = (n, m)\n",
    "    Y - label vecor, size = (number of labels, m)\n",
    "    \n",
    "    Return:\n",
    "    mini_batches - list of synchronous (mini_batch_X, mini_batch_Y)\n",
    "    \"\"\"\n",
    "    \n",
    "    m = X.shape[1]\n",
    "    mini_batches = list()\n",
    "    \n",
    "    permutation = list(np.random.permutation(m)) # create a list of permutations\n",
    "    shuffled_X = X[:, permutation]\n",
    "    shuffled_Y = Y[:, permutation].reshape((Y.shape[0], m))\n",
    "    \n",
    "    # Partition\n",
    "    num_complete_minibatches = np.floor(m/mini_batch_size).astype(int)\n",
    "    for k in range(num_complete_minibatches):\n",
    "        \n",
    "        mini_batch_X = shuffled_X[:, k*mini_batch_size : (k+1)*mini_batch_size]\n",
    "        mini_batch_Y = shuffled_Y[:, k*mini_batch_size : (k+1)*mini_batch_size]\n",
    "        \n",
    "        mini_batch = (mini_batch_X, mini_batch_Y)\n",
    "        mini_batches.append(mini_batch)\n",
    "        \n",
    "    # Handling the end casse (last mini-batch < mini_batch_size)\n",
    "    if m % mini_batch_size != 0:\n",
    "        \n",
    "        mini_batch_X = shuffled_X[:, mini_batch_size*(m // mini_batch_size) : ]\n",
    "        mini_batch_Y = shuffled_Y[:, mini_batch_size*(m // mini_batch_size) : ]\n",
    "        \n",
    "        mini_batch = (mini_batch_X, mini_batch_Y)\n",
    "        mini_batches.append(mini_batch)\n",
    "        \n",
    "    return mini_batches"
   ]
  },
  {
   "cell_type": "code",
   "execution_count": 15,
   "metadata": {},
   "outputs": [],
   "source": [
    "def initialize_parameters(dims):\n",
    "    \"\"\"\n",
    "    Arguments:\n",
    "    dims - list of the dimensions of layers, the first element is number of features,\n",
    "        the last is a number of labels, type = list\n",
    "    \n",
    "    Return:\n",
    "    parameters - Wi - weights, bi - bias term for i-th layer, type = dict\n",
    "    parameters = {..., Wi : , bi : , ...}\n",
    "    \"\"\"\n",
    "    \n",
    "    L = len(dims) - 1 # The input layer doesn't count in layer number\n",
    "    parameters = dict()\n",
    "    \n",
    "    for l in range(L):\n",
    "        \n",
    "        parameters['W'+str(l+1)] = np.random.randn(dims[l+1], dims[l]) * 0.01\n",
    "        parameters['b'+str(l+1)] = np.zeros((dims[l+1], 1))\n",
    "        \n",
    "    return parameters"
   ]
  },
  {
   "cell_type": "code",
   "execution_count": 16,
   "metadata": {},
   "outputs": [],
   "source": [
    "def forward_propagation(X, parameters):\n",
    "    \"\"\"\n",
    "    Arguments:\n",
    "    X - dataset\n",
    "    parameters - dictionary with W - weights, b - bias term\n",
    "    L - number of layers\n",
    "    \n",
    "    Return:\n",
    "    forward_cache - dictionary with Zi and Ai values\n",
    "    \"\"\"\n",
    "    L = len(parameters) // 2\n",
    "    forward_cache = {'A0' : X, 'Z0' : X}\n",
    "    \n",
    "    for l in range(L - 1):\n",
    "        \n",
    "        forward_cache['Z'+str(l+1)] = np.dot(parameters['W'+str(l+1)], forward_cache['A'+str(l)]) + parameters['b'+str(l+1)]\n",
    "        forward_cache['A'+str(l+1)] = sigmoid(forward_cache['Z'+str(l+1)])\n",
    "    # Handling output layer\n",
    "    forward_cache['Z'+str(L)] = np.dot(parameters['W'+str(L)], forward_cache['A'+str(L-1)]) + parameters['b'+str(L)]\n",
    "    forward_cache['A'+str(L)] = softmax(forward_cache['Z'+str(L)])\n",
    "    \n",
    "    return forward_cache"
   ]
  },
  {
   "cell_type": "code",
   "execution_count": 17,
   "metadata": {},
   "outputs": [],
   "source": [
    "def compute_cost(A, Y, parameters, lambd):\n",
    "    \"\"\"\n",
    "    Arguments:\n",
    "    A - an output layer value\n",
    "    Y - true label\n",
    "    parameters - weights and bias terms\n",
    "    lambd - regularization hyperparameter\n",
    "    \n",
    "    Return:\n",
    "    cost - cross-entropy cost\n",
    "    \"\"\"\n",
    "    reg = 0\n",
    "    \n",
    "    for l in range(len(parameters)//2):\n",
    "        reg += np.sum(parameters['W'+str(l+1)]**2)\n",
    "    \n",
    "    cost = -1 * np.sum(Y*np.log(A)) + lambd/2 * reg\n",
    "    \n",
    "    return cost"
   ]
  },
  {
   "cell_type": "code",
   "execution_count": 18,
   "metadata": {},
   "outputs": [],
   "source": [
    "def backward_propagation(Y, forward_cache, parameters, lambd):\n",
    "    \"\"\"\n",
    "    Arguments:\n",
    "    forward_cache - dictionary with Zi and Ai\n",
    "    parameters - weights and bias terms\n",
    "    lambd - regularization hyperparameter\n",
    "    \n",
    "    Return:\n",
    "    grads - dictionary with dWi and dbi\n",
    "        dWi - derivative of the loss with the respect to Wi\n",
    "        dbi - derivative of the loss with the respect to bi\n",
    "    \"\"\"\n",
    "    \n",
    "    m = Y.shape[1]\n",
    "    \n",
    "    L = len(parameters) // 2\n",
    "    grads = {'dZ'+str(L) : forward_cache['A'+str(L)] - Y}\n",
    "    dZL = grads['dZ' + str(L)]\n",
    "    grads['dW'+str(L)] = 1/m * np.dot(dZL, forward_cache['A' + str(L-1)].T) + lambd/m * parameters['W'+str(L)]\n",
    "    grads['db'+str(L)] = 1/m * np.sum(dZL, axis = 1, keepdims = True)\n",
    "    \n",
    "    for l in range(L - 1, 0, -1):\n",
    "        \n",
    "        grads['dZ'+str(l)] = 1/m * np.dot(parameters['W' + str(l+1)].T, grads['dZ'+str(l+1)])*forward_cache['A'+str(l)]*(1-forward_cache['A'+str(l)])\n",
    "        grads['dW'+str(l)] = 1/m * np.dot(grads['dZ'+str(l)], forward_cache['A'+str(l-1)].T)+lambd/m*parameters['W'+str(l)]\n",
    "        grads['db'+str(l)] = 1/m * np.sum(grads['dZ'+str(l)], axis = 1, keepdims = True)\n",
    "        \n",
    "    return grads"
   ]
  },
  {
   "cell_type": "code",
   "execution_count": 19,
   "metadata": {},
   "outputs": [],
   "source": [
    "def initialize_adam(parameters):\n",
    "    \"\"\"\n",
    "    Arguments:\n",
    "    parameters - dictionary with W - weights, b - bias terms\n",
    "    \n",
    "    Return:\n",
    "    v - python dictionary that will contain the exponentially weighted average of the gradient.\n",
    "            v[\"dW\" + str(l)] = ...\n",
    "            v[\"db\" + str(l)] = ...\n",
    "    s - python dictionary that will contain the exponentially weighted average of the squared gradient.\n",
    "            s[\"dW\" + str(l)] = ...\n",
    "            s[\"db\" + str(l)] = ...\n",
    "    \"\"\"\n",
    "    \n",
    "    L = len(parameters) // 2\n",
    "    v = dict()\n",
    "    s = dict()\n",
    "    \n",
    "    \n",
    "    for l in range(L):\n",
    "        \n",
    "        v[\"dW\" + str(l+1)] = np.zeros((parameters['W' + str(l+1)].shape[0], parameters['W' + str(l+1)].shape[1]))\n",
    "        v[\"db\" + str(l+1)] = np.zeros((parameters['b' + str(l+1)].shape[0], parameters['b' + str(l+1)].shape[1]))\n",
    "        s[\"dW\" + str(l+1)] = np.zeros((parameters['W' + str(l+1)].shape[0], parameters['W' + str(l+1)].shape[1]))\n",
    "        s[\"db\" + str(l+1)] = np.zeros((parameters['b' + str(l+1)].shape[0], parameters['b' + str(l+1)].shape[1]))\n",
    "    \n",
    "    return v, s"
   ]
  },
  {
   "cell_type": "code",
   "execution_count": 20,
   "metadata": {},
   "outputs": [],
   "source": [
    "def update_parameters_with_adam(parameters, grads, v, s, t, learning_rate, beta1 = 0.9, beta2 = 0.999, epsilon = 10**(-8)):\n",
    "    \"\"\"\n",
    "    Arguments:\n",
    "    parameters - python dictionary with your parameters:\n",
    "                parameters['W' + str(l)] = Wl\n",
    "                parameters['b' + str(l)] = bl\n",
    "    grads - python dictionary with your gradients for each parameters:\n",
    "                grads['dW' + str(l)] = dWl\n",
    "                grads['db' + str(l)] = dbl\n",
    "    v - Adam variable, moving average of the first gradient, python dictionary\n",
    "    s - Adam variable, moving average of the squared gradient, python dictionary\n",
    "    learning_rate - the learning rate, scalar.  \n",
    "    epsilon - hyperparameter preventing division by zero in Adam updates\n",
    "\n",
    "    Return:\n",
    "    parameters - python dictionary containing your updated parameters \n",
    "    v - Adam variable, moving average of the first gradient, python dictionary\n",
    "    s - Adam variable, moving average of the squared gradient, python dictionary\n",
    "    \"\"\"\n",
    "    \n",
    "    L = len(parameters) // 2\n",
    "    \n",
    "    v_corrected = dict()\n",
    "    s_corrected = dict()\n",
    "    \n",
    "    for l in range(L):\n",
    "        \n",
    "        v[\"dW\" + str(l+1)] = beta1 * v[\"dW\" + str(l+1)] + (1 - beta1) * grads['dW' + str(l+1)]\n",
    "        v[\"db\" + str(l+1)] = beta1 * v[\"db\" + str(l+1)] + (1 - beta1) * grads['db' + str(l+1)]\n",
    "        \n",
    "        v_corrected[\"dW\" + str(l+1)] = v['dW' + str(l+1)] / (1 - beta1**t)\n",
    "        v_corrected[\"db\" + str(l+1)] = v['db' + str(l+1)] / (1 - beta1**t)\n",
    "        \n",
    "        s[\"dW\" + str(l+1)] = beta2 * s[\"dW\" + str(l+1)] + (1 - beta2) * grads['dW' + str(l+1)]**2\n",
    "        s[\"db\" + str(l+1)] = beta2 * s[\"db\" + str(l+1)] + (1 - beta2) * grads['db' + str(l+1)]**2\n",
    "\n",
    "        s_corrected[\"dW\" + str(l+1)] = s['dW' + str(l+1)] / (1 - beta2**t)\n",
    "        s_corrected[\"db\" + str(l+1)] = s['db' + str(l+1)] / (1 - beta2**t)\n",
    "        \n",
    "        parameters[\"W\" + str(l+1)] = parameters['W' + str(l+1)] - learning_rate * v_corrected['dW' + str(l+1)] / (np.sqrt(s_corrected['dW' + str(l+1)]) + epsilon) \n",
    "        parameters[\"b\" + str(l+1)] = parameters['b' + str(l+1)] - learning_rate * v_corrected['db' + str(l+1)] / (np.sqrt(s_corrected['db' + str(l+1)]) + epsilon)\n",
    "        \n",
    "    return parameters, v, s"
   ]
  },
  {
   "cell_type": "code",
   "execution_count": 21,
   "metadata": {},
   "outputs": [],
   "source": [
    "def model(X, Y, X_val, Y_val, dims, learning_rate = 0.001, num_epochs = 15000, mini_batch_size = 128, lambd = 0, beta1 = 0.9, beta2 = 0.999, epsilon = 1e-8):\n",
    "    \"\"\"\n",
    "    Arguments:\n",
    "    X - training dataset\n",
    "    Y - training target vector\n",
    "    X_val - cross-validation dataset\n",
    "    Y_val - cross-validation target vector\n",
    "    dims - list of the dimensions of layers\n",
    "    learning_rate -  learning rate hyperparameter, default -- 0.001\n",
    "    num_epochs - number of epochs, default -- 15000\n",
    "    lambd - regularization hyperparameter, default -- 0\n",
    "    print_cost - bool, if True - print cost each 1000 iterations, default -- False\n",
    "    \n",
    "    Return:\n",
    "    parameters - learned parameters, python dictionary\n",
    "    \"\"\"\n",
    "    # Initialize all\n",
    "    parameters = dict()\n",
    "    forward_cache = dict()\n",
    "    grads = dict()\n",
    "    costs = list() # list of costs after each # of epochs for training set\n",
    "    costs_val = list()# list of costs after # of epochs for cross-validation set\n",
    "    accur = list() # list of errors on training set\n",
    "    accur_val = list() # list of errors on cross-validation set\n",
    "    m = X.shape[1]\n",
    "    m_val = X_val.shape[1]\n",
    "    \n",
    "    parameters = initialize_parameters(dims)\n",
    "    v, s = initialize_adam(parameters)\n",
    "    L = len(parameters) // 2\n",
    "    \n",
    "    for i in range(num_epochs):\n",
    "                \n",
    "        \n",
    "        cost_total = 0\n",
    "        minibatches = random_mini_batches(X, Y, mini_batch_size)\n",
    "            \n",
    "        for minibatch in minibatches:\n",
    "                \n",
    "            (minibatch_X, minibatch_Y) = minibatch\n",
    "            \n",
    "            # Forward propagation\n",
    "            forward_cache = forward_propagation(minibatch_X, parameters)\n",
    "            # Compute cost and add it to cost_total\n",
    "            cost_total += compute_cost(forward_cache['A'+str(L)], minibatch_Y, parameters, lambd)\n",
    "            # Backward propagation\n",
    "            grads = backward_propagation(minibatch_Y, forward_cache, parameters, lambd)\n",
    "            \n",
    "            # Update parameters\n",
    "            parameters, v, s = update_parameters_with_adam(parameters, grads, v, s, i+1, learning_rate, epsilon)\n",
    "        # Compute average cost    \n",
    "        cost_avg = cost_total / m\n",
    "        \n",
    "        \n",
    "            \n",
    "        if i % 10 == 0:\n",
    "            cost = cost_avg\n",
    "            forward_cache_val = forward_propagation(X_val, parameters)\n",
    "            costs_val.append(compute_cost(forward_cache_val['A'+str(L)], Y_val, parameters, lambd)/m_val)\n",
    "            costs.append(cost)\n",
    "            _, accur_train = predict(X, Y, parameters)\n",
    "            _, accur_valid = predict(X_val, Y_val, parameters)\n",
    "            accur.append(accur_train)\n",
    "            accur_val.append(accur_valid)\n",
    "            if i % 25 == 0:\n",
    "                print('Train cost after {} epochs: {}'.format(i, cost))\n",
    "                \n",
    "        \n",
    "    return parameters, costs, costs_val, accur, accur_val"
   ]
  },
  {
   "cell_type": "code",
   "execution_count": 22,
   "metadata": {},
   "outputs": [],
   "source": [
    "def plot_cost(costs_train, costs_valid, accur_train, accur_valid):\n",
    "    \"\"\"\n",
    "    Arguments:\n",
    "    costs_train - list of training costs after some epochs\n",
    "    costs_valid - list of cross-validation costs after some epochs\n",
    "    accur_train - list of accuracies on training set\n",
    "    accur_valid - list of accuracies on cross-validation set\n",
    "    \n",
    "    Plot learning curves\n",
    "    \"\"\"\n",
    "    \n",
    "    ## Plot learning curves:\n",
    "    plt.plot(costs_train, label = 'Training set')\n",
    "    plt.plot(costs_valid, label = 'Dev set')\n",
    "    plt.xlabel('Iterations')\n",
    "    plt.ylabel('Loss')\n",
    "    plt.legend()\n",
    "    plt.show()\n",
    "    ##\n",
    "    \n",
    "    ## Plot prediction accuracy curves\n",
    "    plt.plot(accur_train, label = 'Training set')\n",
    "    plt.plot(accur_valid, label = 'Dev set')\n",
    "    plt.xlabel('Iterations')\n",
    "    plt.ylabel('Accuracy')\n",
    "    plt.legend()\n",
    "    plt.show()\n",
    "    ##    "
   ]
  },
  {
   "cell_type": "code",
   "execution_count": 23,
   "metadata": {},
   "outputs": [],
   "source": [
    "def predict(X, Y, parameters, comp_accur = True):\n",
    "    \"\"\"\n",
    "    Arguments:\n",
    "    X - dataset\n",
    "    Y - true label vector\n",
    "    parameters - weights and bias terms\n",
    "    \n",
    "    Return:\n",
    "    Y_pred - predicted label vector\n",
    "    accur - accuracy of the prediction\n",
    "    \"\"\"\n",
    "    \n",
    "    L = len(parameters) // 2 \n",
    "    \n",
    "    forward_cache = forward_propagation(X, parameters)\n",
    "    A = forward_cache['A'+str(L)]\n",
    "    \n",
    "    Y_pred = np.argmax(A, axis = 0)\n",
    "    Y = np.argmax(Y, axis = 0)\n",
    "    if comp_accur is False:\n",
    "        return Y_pred\n",
    "    accur = np.mean(Y == Y_pred) * 100\n",
    "    \n",
    "    return Y_pred, accur"
   ]
  },
  {
   "cell_type": "markdown",
   "metadata": {},
   "source": [
    "# Let's train\n",
    "\n",
    "We will try different combinations of hyperparameters and choose the best according to the perfomance"
   ]
  },
  {
   "cell_type": "code",
   "execution_count": 24,
   "metadata": {},
   "outputs": [
    {
     "name": "stdout",
     "output_type": "stream",
     "text": [
      "Train cost after 0 epochs: 1.847265667169419\n",
      "Train cost after 50 epochs: 0.18987160893125155\n",
      "Train cost after 100 epochs: 0.13621142189770422\n",
      "Train cost after 150 epochs: 0.11499592595792507\n",
      "Train cost after 200 epochs: 0.10633736319753645\n",
      "Train cost after 250 epochs: 0.10229854641963697\n",
      "Train cost after 300 epochs: 0.10071118361829241\n",
      "Train cost after 350 epochs: 0.09975294640475073\n",
      "Train cost after 400 epochs: 0.10019864836860898\n",
      "Train cost after 450 epochs: 0.099578299076336\n"
     ]
    }
   ],
   "source": [
    "dims = [X_train.shape[0], 100, Y_train.shape[0]]\n",
    "parameters, costs, costs_val, accur, accur_val = model(X_train, Y_train, X_valid, Y_valid, dims = dims, num_epochs = 500, lambd = 0.005)"
   ]
  },
  {
   "cell_type": "code",
   "execution_count": 25,
   "metadata": {},
   "outputs": [
    {
     "data": {
      "image/png": "[encoded data removed]",
      "text/plain": [
       "<Figure size 432x288 with 1 Axes>"
      ]
     },
     "metadata": {
      "needs_background": "light"
     },
     "output_type": "display_data"
    },
    {
     "data": {
      "image/png": "[encoded data removed]",
      "text/plain": [
       "<Figure size 432x288 with 1 Axes>"
      ]
     },
     "metadata": {
      "needs_background": "light"
     },
     "output_type": "display_data"
    }
   ],
   "source": [
    "plot_cost(costs, costs_val, accur, accur_val)"
   ]
  },
  {
   "cell_type": "markdown",
   "metadata": {},
   "source": [
    "# Prediction  "
   ]
  },
  {
   "cell_type": "code",
   "execution_count": 26,
   "metadata": {},
   "outputs": [
    {
     "name": "stdout",
     "output_type": "stream",
     "text": [
      "Prediction accuracy on training set: 98.194 %\n",
      "Prediction accuracy on cross-validation set: 97.07000000000001 %\n"
     ]
    }
   ],
   "source": [
    "Y_pred_train, accur_train = predict(X_train, Y_train, parameters)\n",
    "Y_pred_valid, accur_valid = predict(X_valid, Y_valid, parameters)\n",
    "print('Prediction accuracy on training set: {} %'.format(accur_train))\n",
    "print('Prediction accuracy on cross-validation set: {} %'.format(accur_valid))"
   ]
  },
  {
   "cell_type": "code",
   "execution_count": 27,
   "metadata": {},
   "outputs": [
    {
     "name": "stdout",
     "output_type": "stream",
     "text": [
      "(50000,) (50000,) (10000,) (10000,)\n"
     ]
    }
   ],
   "source": [
    "# Return training and cross-validation target vectors to original shape\n",
    "Y_train = np.argmax(Y_train, axis = 0)\n",
    "Y_valid = np.argmax(Y_valid, axis = 0)\n",
    "print(Y_pred_train.shape, Y_train.shape, Y_pred_valid.shape, Y_valid.shape)"
   ]
  },
  {
   "cell_type": "code",
   "execution_count": 28,
   "metadata": {},
   "outputs": [
    {
     "data": {
      "image/png": "[encoded data removed]",
      "text/plain": [
       "<Figure size 720x576 with 2 Axes>"
      ]
     },
     "metadata": {
      "needs_background": "light"
     },
     "output_type": "display_data"
    },
    {
     "data": {
      "image/png": "[encoded data removed]",
      "text/plain": [
       "<Figure size 720x576 with 2 Axes>"
      ]
     },
     "metadata": {
      "needs_background": "light"
     },
     "output_type": "display_data"
    }
   ],
   "source": [
    "df_train = pd.DataFrame(data = {'Y_Actual_train':Y_train, 'Y_Pred_train':Y_pred_train})\n",
    "df_valid = pd.DataFrame(data = {'Y_Actual_val':Y_valid, 'Y_Pred_valid':Y_pred_valid})\n",
    "conf_matrix_train = pd.crosstab(df_train['Y_Actual_train'], df_train['Y_Pred_train'], rownames = ['Actual'], colnames = ['Predicted'])\n",
    "conf_matrix_valid = pd.crosstab(df_valid['Y_Actual_val'], df_valid['Y_Pred_valid'], rownames = ['Actual'], colnames = ['Predicted'])\n",
    "# Confusion matrix of training set\n",
    "plt.figure(figsize = (10, 8))\n",
    "sns.heatmap(data = conf_matrix_train, annot = True)\n",
    "plt.title('Training set confusion matrix')\n",
    "plt.show()\n",
    "# Confusion matrix of training set\n",
    "plt.figure(figsize = (10, 8))\n",
    "sns.heatmap(data = conf_matrix_valid, annot = True)\n",
    "plt.title('Cross-validation set confusion matrix')\n",
    "plt.show()"
   ]
  },
  {
   "cell_type": "markdown",
   "metadata": {},
   "source": [
    "### Prediction on test set\n",
    "\n",
    "#### Accuracy"
   ]
  },
  {
   "cell_type": "code",
   "execution_count": 29,
   "metadata": {},
   "outputs": [
    {
     "name": "stdout",
     "output_type": "stream",
     "text": [
      "Prediction accuracy on the test set: 97.18 %\n"
     ]
    }
   ],
   "source": [
    "Y_pred_test, accur_test = predict(X_test, Y_test, parameters)\n",
    "print('Prediction accuracy on the test set: {} %'.format(accur_test))"
   ]
  },
  {
   "cell_type": "code",
   "execution_count": 30,
   "metadata": {},
   "outputs": [],
   "source": [
    "# Return test target vector to original shape\n",
    "Y_test = np.argmax(Y_test, axis = 0)"
   ]
  },
  {
   "cell_type": "markdown",
   "metadata": {},
   "source": [
    "#### Confusion matrix"
   ]
  },
  {
   "cell_type": "code",
   "execution_count": 31,
   "metadata": {
    "scrolled": false
   },
   "outputs": [
    {
     "data": {
      "image/png": "[encoded data removed]",
      "text/plain": [
       "<Figure size 720x576 with 2 Axes>"
      ]
     },
     "metadata": {
      "needs_background": "light"
     },
     "output_type": "display_data"
    }
   ],
   "source": [
    "df_test = pd.DataFrame(data = {'Y_Actual_test' : Y_test, 'Y_Pred_test' : Y_pred_test})\n",
    "conf_matrix_test = pd.crosstab(df_test['Y_Actual_test'], df_test['Y_Pred_test'], rownames = ['Actual'], colnames = ['Predicted'])\n",
    "\n",
    "plt.figure(figsize = (10, 8))\n",
    "sns.heatmap(data = conf_matrix_test, annot = True)\n",
    "plt.title('Test set confusion matrix')\n",
    "plt.show()"
   ]
  },
  {
   "cell_type": "markdown",
   "metadata": {},
   "source": [
    "# Conclusion\n",
    "\n",
    "Perceptron with the next architecture:  \n",
    "- 1 hidden layer\n",
    "- 100 nodes in the hidden layer\n",
    "- sigmoid() activation function in the hidden layer\n",
    "- softmax() activation function in the output layer\n",
    "\n",
    "gives very good performance on all datasets.   \n",
    "The model is accurate and there is no huge difference between performances on datasets. Hence, this data is enough, we do not encounter _overfitting_ and _underfitting_."
   ]
  }
 ],
 "metadata": {
  "kernelspec": {
   "display_name": "Python 3",
   "language": "python",
   "name": "python3"
  },
  "language_info": {
   "codemirror_mode": {
    "name": "ipython",
    "version": 3
   },
   "file_extension": ".py",
   "mimetype": "text/x-python",
   "name": "python",
   "nbconvert_exporter": "python",
   "pygments_lexer": "ipython3",
   "version": "3.8.6"
  }
 },
 "nbformat": 4,
 "nbformat_minor": 4
}

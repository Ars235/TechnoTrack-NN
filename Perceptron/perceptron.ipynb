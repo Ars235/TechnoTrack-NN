{
 "cells": [
  {
   "cell_type": "markdown",
   "metadata": {},
   "source": [
    "# Theoretical task\n",
    "\n",
    "Target variable $y\\sim Laplace(\\alpha, \\beta)$, $p(y = z) = \\frac{1}{2\\beta}exp(-\\frac{|{z-\\alpha}|}{\\beta})$, with $\\mathrm{E}[y] = \\alpha$ and $\\mathrm{Var}[y] = 2\\beta^2$.  \n",
    "Let $x_{(m\\times n)}$ - our data, $\\theta_{(n\\times1)}$ - vector of parameters.  \n",
    "Then $y$ may be represented as $f(x) = x\\theta + \\xi$,  \n",
    "where $\\xi\\sim N(0, \\sigma^2)$, and $\\mathrm{E}[f(x)] = x\\theta$, $\\mathrm{Var}[f(x)] = \\sigma^2$.\n",
    "Hence, $\\alpha = x\\theta$ and $2\\beta^2 = \\sigma^2$  \n",
    "\n",
    "So if we want to maximize likelihood, then:  \n",
    "\n",
    "$p(t|x, \\theta, \\sigma^2) = \\prod \\limits_{i=1}^m\\frac{1}{2\\beta}exp(-\\frac{|{t_i-\\alpha}|}{\\beta}) = \\prod \\limits_{i=1}^m\\frac{1}{\\sigma\\sqrt{2}}exp(-\\frac{\\sqrt{2}|{t_i-x_i\\theta}|}{\\sigma})$  \n",
    "$\\ln{p(t|x, \\theta, \\sigma^2)} = -\\sum \\limits_{i=1}^m\\frac{\\sqrt{2}|{t_i-x_i\\theta}|}{\\sigma} + m\\ln{\\frac{1}{\\sigma\\sqrt{2}}}$  \n",
    "Assuming that $\\sigma$ doesn't depend on target values, optimal $\\theta = argmin \\sum \\limits_{i=1}^m|{t_i-x_i\\theta}|$.  \n",
    "\n",
    "So if our target values have Laplace distribution, then we need to use _MAE_ as our _loss function_."
   ]
  },
  {
   "cell_type": "code",
   "execution_count": 1,
   "metadata": {},
   "outputs": [],
   "source": [
    "import numpy as np\n",
    "import matplotlib.pyplot as plt\n",
    "import seaborn as sns\n",
    "from tqdm import tqdm\n",
    "%matplotlib inline"
   ]
  },
  {
   "cell_type": "markdown",
   "metadata": {},
   "source": [
    "# ------------------------------------------------MODEL----------------------------------------------------\n",
    "We will build _3-layer perceptron_ which will be trained, using _MNIST digits dataset_, to distinguish handwritten digits.  \n",
    "\n",
    "We'll follow the next steps:  \n",
    "\n",
    "1. Loading data  \n",
    "\n",
    "\n",
    "2. Feature analysis and engineering  \n",
    "\n",
    "\n",
    "3. Building the model:\n",
    "    * Define activation functions and hidden layers sizes\n",
    "    * Define the _loss function_\n",
    "    * Define _learning algorithm_  \n",
    "    * Implement through the code\n",
    "\n",
    "\n",
    "4. Train the model  \n",
    "\n",
    "\n",
    "5. Evaluate perfomance and optimize it  \n",
    "\n",
    "\n",
    "6. Make prediction"
   ]
  },
  {
   "cell_type": "markdown",
   "metadata": {},
   "source": [
    "# 1.Loading data  "
   ]
  },
  {
   "cell_type": "code",
   "execution_count": 2,
   "metadata": {
    "scrolled": false
   },
   "outputs": [
    {
     "name": "stdout",
     "output_type": "stream",
     "text": [
      "Train shape: (60000, 28, 28), Test shape: (10000, 28, 28)\n"
     ]
    }
   ],
   "source": [
    "mnist = np.load('./mnist.npz')\n",
    "x_train = mnist['x_train']\n",
    "y_train = mnist['y_train']\n",
    "x_test = mnist['x_test']\n",
    "y_test = mnist['y_test']\n",
    "print('Train shape: {}, Test shape: {}'.format(x_train.shape, x_test.shape))"
   ]
  },
  {
   "cell_type": "code",
   "execution_count": 3,
   "metadata": {},
   "outputs": [
    {
     "data": {
      "image/png": "[encoded data removed]",
      "text/plain": [
       "<Figure size 576x576 with 16 Axes>"
      ]
     },
     "metadata": {},
     "output_type": "display_data"
    }
   ],
   "source": [
    "fig, ax = plt.subplots(4, 4, figsize = (8, 8))\n",
    "for i in range(4):\n",
    "    for j in range(4):\n",
    "        ax[i, j].imshow(x_train[371*i + 125*j])\n",
    "        ax[i, j].set_title('label = %s' % y_train[371*i + 125*j])\n",
    "        ax[i, j].set_xticks([])\n",
    "        ax[i, j].set_yticks([])"
   ]
  },
  {
   "cell_type": "markdown",
   "metadata": {},
   "source": [
    "Data consists of 70000 samples.  \n",
    "Each sample is a 28x28 gray-scale image of a digit from 0 to 9. \n",
    "\n",
    "For convenience each image will be reshaped from 28x28 matrix into 28^2 = 784-element row.  \n",
    "Hence $x_{j}^{(i)}$ ($x_{ij}$ element of matrix *x_train*) represents _jth_ feature of _ith_ sample, or a single pixel of _(ith)_ image, _j_ goes from 1 to 784,  \n",
    "$x_0$ will represent _bias term_,  \n",
    "and $x^{(i)}$ is a row vector of features of _ith_ sample.   \n",
    "\n",
    "Each pixel has a single pixel-value from 0 to 255 associated with it,  \n",
    "indicating the lightness or darkness of that pixel, with higher number meaning lighter.  "
   ]
  },
  {
   "cell_type": "code",
   "execution_count": 4,
   "metadata": {},
   "outputs": [
    {
     "name": "stdout",
     "output_type": "stream",
     "text": [
      "Reshaped:\n",
      "Train shape: (60000, 784), Test shape: (10000, 784)\n"
     ]
    },
    {
     "data": {
      "text/plain": [
       "array([[0, 0, 0, ..., 0, 0, 0],\n",
       "       [0, 0, 0, ..., 0, 0, 0],\n",
       "       [0, 0, 0, ..., 0, 0, 0],\n",
       "       ...,\n",
       "       [0, 0, 0, ..., 0, 0, 0],\n",
       "       [0, 0, 0, ..., 0, 0, 0],\n",
       "       [0, 0, 0, ..., 0, 0, 0]], dtype=uint8)"
      ]
     },
     "execution_count": 4,
     "metadata": {},
     "output_type": "execute_result"
    }
   ],
   "source": [
    "x_train = x_train.reshape(x_train.shape[0], -1)\n",
    "y_train = y_train.reshape(y_train.shape[0], 1)\n",
    "\n",
    "x_test = x_test.reshape(x_test.shape[0], -1)\n",
    "y_test = y_test.reshape(y_test.shape[0], 1)\n",
    "\n",
    "print('Reshaped:')\n",
    "print('Train shape: {}, Test shape: {}'.format(x_train.shape, x_test.shape))\n",
    "x_train"
   ]
  },
  {
   "cell_type": "markdown",
   "metadata": {},
   "source": [
    "# 2.Feature analysis and engineering"
   ]
  },
  {
   "cell_type": "markdown",
   "metadata": {},
   "source": [
    "Data should be normalized"
   ]
  },
  {
   "cell_type": "code",
   "execution_count": 5,
   "metadata": {},
   "outputs": [],
   "source": [
    "def normalize_data(x1, x2 = None):\n",
    "    '''\n",
    "    Arguments:\n",
    "    x -- data tuple, e.g. (x_train, x_test)\n",
    "    \n",
    "    Returns:\n",
    "    x_normalized -- (x-Ex)/std(x)\n",
    "    '''\n",
    "    if x2 is not None:\n",
    "        x = np.concatenate((x1, x2), axis = 0)    \n",
    "    else:\n",
    "        x = x1.copy()\n",
    "    \n",
    "    Ex = np.mean(x, axis = 0)\n",
    "    std_x = np.std(x, axis = 0)\n",
    "    \n",
    "    x1_normalized = (x1 - Ex) / (std_x + 1e-10) # add 1e-10 to avoid division by zero\n",
    "    x2_normalized = (x2 - Ex) / (std_x + 1e-10)\n",
    "    \n",
    "    return x1_normalized, x2_normalized"
   ]
  },
  {
   "cell_type": "code",
   "execution_count": 6,
   "metadata": {},
   "outputs": [],
   "source": [
    "x_train, x_test = normalize_data(x_train, x_test)"
   ]
  },
  {
   "cell_type": "markdown",
   "metadata": {},
   "source": [
    "Target values *y_train* and *y_test* are now cosists of digits from _0_ to _9_,  \n",
    "\n",
    "it's not convenient to use this form for training, so we'll use _one-hot encoding_.\n",
    "\n",
    "If $y^{(i)} = 4$, then after encoding $y^{(i)} = (0, 0, 0, 1, 0, 0, 0, 0, 0, 0)$,  \n",
    "\n",
    "and target vector $y_{m\\times1}$ after ecnoding will have shape $(m, K)$, where $K$ - number of classes"
   ]
  },
  {
   "cell_type": "code",
   "execution_count": 7,
   "metadata": {},
   "outputs": [],
   "source": [
    "def one_hot(y, K):\n",
    "    '''\n",
    "    Argumnets:\n",
    "    y -- target vector\n",
    "    K -- number of classes\n",
    "    \n",
    "    Returns:\n",
    "    y_ext -- one-hot encoded vector y\n",
    "    '''\n",
    "    # expand the array\n",
    "    zero_pad = np.zeros((y.shape[0], K - 1))\n",
    "    y_ext = np.concatenate((y, zero_pad), axis = 1)\n",
    "    \n",
    "    # One-hot encoding\n",
    "    for i in range(y.shape[0]):\n",
    "        for j in range(K):\n",
    "            \n",
    "            y_ext[i, j] = 1 if y[i] == j else 0\n",
    "    \n",
    "    return y_ext"
   ]
  },
  {
   "cell_type": "code",
   "execution_count": 8,
   "metadata": {},
   "outputs": [
    {
     "data": {
      "text/plain": [
       "array([[0., 0., 0., ..., 0., 0., 0.],\n",
       "       [1., 0., 0., ..., 0., 0., 0.],\n",
       "       [0., 0., 0., ..., 0., 0., 0.],\n",
       "       ...,\n",
       "       [0., 0., 0., ..., 0., 0., 0.],\n",
       "       [0., 0., 0., ..., 0., 0., 0.],\n",
       "       [0., 0., 0., ..., 0., 1., 0.]])"
      ]
     },
     "execution_count": 8,
     "metadata": {},
     "output_type": "execute_result"
    }
   ],
   "source": [
    "K = 10 # number of classes\n",
    "\n",
    "y_train = one_hot(y_train, K)\n",
    "y_test = one_hot(y_test, K)\n",
    "y_train"
   ]
  },
  {
   "cell_type": "markdown",
   "metadata": {},
   "source": [
    "Now $y_{j}^{(i)}$ represents _ith_ image with digit equals to _j_, if $y_{j}^{(i)}$ = 1. Other values of row $y^{(i)}$ equals zero."
   ]
  },
  {
   "cell_type": "markdown",
   "metadata": {},
   "source": [
    "Let's divide *x_train* into _training set_ and _cross-validation set_."
   ]
  },
  {
   "cell_type": "code",
   "execution_count": 9,
   "metadata": {},
   "outputs": [
    {
     "name": "stdout",
     "output_type": "stream",
     "text": [
      "Training set shape: (50000, 784) Dev set shape: (10000, 784)\n"
     ]
    }
   ],
   "source": [
    "# Cross-validation set\n",
    "x_valid = x_train[50000:]\n",
    "y_valid = y_train[50000:]\n",
    "# Training set\n",
    "x_train = x_train[:50000]\n",
    "y_train = y_train[:50000]\n",
    "\n",
    "print('Training set shape: {} Dev set shape: {}'.format(x_train.shape, x_valid.shape))"
   ]
  },
  {
   "cell_type": "markdown",
   "metadata": {},
   "source": [
    "For neural networks data should have shape $(n, m)$, where _n_ is a number of features and _m_ is a number of training examples.  \n",
    "So we should transpose our data."
   ]
  },
  {
   "cell_type": "markdown",
   "metadata": {},
   "source": [
    "# 3.Building the model\n",
    "We'll build 3-layer perceptron and train it with _gradient descent_.\n",
    "\n",
    "An _input layer_ is our data $x_{n\\times1}^{(i)}$, hidden layer with *sigmoid* activation function, and an output layer with _softmax_ activation function.  \n",
    "\n",
    "Predicted target variable may be represented as:  \n",
    "$F(x) = \\Psi\\left(\\phi\\left( {x}\\cdot\\theta_1 + b_1 \\right)\\cdot\\theta_2 + b_2\\right)$  \n",
    "Where $\\Psi$ - _softmax_ function, $\\phi$ - _sigmoid_   \n",
    "\n",
    "Target variable $y$ has _multinomial distribution_ so we can use _cross entropy_ as our _loss function_.\n",
    "\n",
    "_Loss function and gradients_:\n",
    "1. $\\mathcal{L} = -\\frac{1}{m}\\sum^{m}_{i=1} {\\sum^{K}_{j=1} ({y_{j}^{(i)}\\ln{\\hat{y}_{j}^{(i)}})}}$, where $\\hat{y}_{j}^{(i)}$ is predicted target variable\n",
    "2. $\\Theta^{(i)}$ denotes matrix of parameters $\\theta$ of _ith_ layer, $\\Theta^{(1)}$ is a matrix of parameters of _1st_ hidden layer. $\\Theta^{(i)} = \\begin{pmatrix}\n",
    "\\Theta_{10}^{(i)} & \\Theta_{11}^{(i)} & \\Theta_{12}^{(i)} & ...\\\\\n",
    "\\Theta_{20}^{(i)} & \\Theta_{21}^{(i)} & \\Theta_{22}^{(i)} & ...\\\\\n",
    "\\Theta_{30}^{(i)} & \\Theta_{31}^{(i)} & \\Theta_{32}^{(i)} & ...\\\\\n",
    ".                 & .                 & .            \\\\\n",
    "\\end{pmatrix}$  \n",
    "Shape of $\\Theta^{(i)}$ is $(n_{i}, n_{i-1})$ , where $n_i$ is number of nodes in _ith_ layer. Input layer is _0th_ layer.  "
   ]
  },
  {
   "cell_type": "markdown",
   "metadata": {},
   "source": [
    "### Train loop\n",
    "1. Initialize hyperparameters  \n",
    "\n",
    "\n",
    "2. Train loop:\n",
    "    * Compute target values $\\hat{y}^{(i)}$\n",
    "    * Compute _loss_ $\\mathcal{L} = -\\frac{1}{m}\\sum^{m}_{i=1} {\\sum^{K}_{j=1} ({y_{j}^{(i)}\\ln{\\hat{y}_{j}^{(i)}})}}$\n",
    "    * Compute gradients $\\frac{\\partial\\mathcal{L}}{\\partial\\Theta_{jk}^{(i)}}$\n",
    "    * Update parameters $\\Theta_{jk}^{(i)} = \\Theta_{jk}^{(i)} - \\alpha\\frac{\\partial\\mathcal{L}}{\\partial\\Theta_{jk}^{(i)}}$\n",
    "    \n",
    "### Model"
   ]
  },
  {
   "cell_type": "code",
   "execution_count": 10,
   "metadata": {},
   "outputs": [],
   "source": [
    "class Differentiable:\n",
    "    def __init__(self):\n",
    "        self.state = None\n",
    "        \n",
    "    def forward(self, **kwargs):\n",
    "        raise NotImplementedError()\n",
    "    def backward(self, **kwargs):\n",
    "        raise NotImplementedError()"
   ]
  },
  {
   "cell_type": "code",
   "execution_count": 11,
   "metadata": {},
   "outputs": [],
   "source": [
    "class loss(Differentiable):\n",
    "    def __init__(self):\n",
    "        super().__init__()\n",
    "        \n",
    "    def forward(self, **kwargs):\n",
    "        \n",
    "        self.state = 0.0\n",
    "        \n",
    "        loss_value = -1/kwargs['y'].shape[1] * np.sum(kwargs['y'] * np.log(kwargs['y_pred']))\n",
    "        \n",
    "        self.state = (kwargs['y'], kwargs['y_pred'])\n",
    "        \n",
    "        return loss_value\n",
    "    \n",
    "    def backward(self, **kwargs):\n",
    "        \n",
    "        partial_grad = -1/self.state[0].shape[1] * (self.state[0] / self.state[1])\n",
    "        \n",
    "        return partial_grad"
   ]
  },
  {
   "cell_type": "code",
   "execution_count": 12,
   "metadata": {},
   "outputs": [],
   "source": [
    "class Linear(Differentiable):\n",
    "    def __init__(self, dim):\n",
    "        super().__init__()\n",
    "        self.theta = None\n",
    "        self.dim = dim # shape of theta, theta.shape = (n_(i), n_(i-1)), where i is a number of layer\n",
    "        \n",
    "    def __call__(self, X):\n",
    "        return self.forward(X)\n",
    "    \n",
    "    def backward(self, **kwargs):\n",
    "        \n",
    "        partial_grad = self.state.T\n",
    "        \n",
    "        return partial_grad\n",
    "    \n",
    "    def forward(self, x):\n",
    "        \n",
    "        assert x.ndim == 2, 'X be should 2-dimensional (m of objects, n of features)'\n",
    "        \n",
    "        if self.theta is None:\n",
    "            self.theta = np.zeros((self.dim[0], self.dim[1] + 1))\n",
    "            \n",
    "            from sklearn.preprocessing import PolynomialFeatures\n",
    "            poly = PolynomialFeatures(1)         \n",
    "            X = poly.fit_transform(x.T).T\n",
    "            self.state = X\n",
    "        \n",
    "        y_pred = np.dot(self.theta, self.state)\n",
    "        \n",
    "        return y_pred"
   ]
  },
  {
   "cell_type": "code",
   "execution_count": 13,
   "metadata": {},
   "outputs": [],
   "source": [
    "class Activation(Differentiable):\n",
    "    def __init__(self):\n",
    "        super().__init__()\n",
    "        self.theta = None\n",
    "    \n",
    "    def backward(self, **kwargs):\n",
    "        \n",
    "        partial_grad = 1 - self.state**2\n",
    "        \n",
    "        return partial_grad\n",
    "    \n",
    "    def forward(self, **kwargs):\n",
    "        \n",
    "        #y_pred = self._sigmoid(kwargs['Z'])\n",
    "        y_pred = np.tanh(kwargs['Z'])\n",
    "        \n",
    "        self.state = y_pred\n",
    "        \n",
    "        return y_pred\n",
    "    \n",
    "    def _sigmoid(self, Z):\n",
    "        \n",
    "        return 1/(1 + np.exp(-Z))"
   ]
  },
  {
   "cell_type": "code",
   "execution_count": 14,
   "metadata": {},
   "outputs": [],
   "source": [
    "class Softmax(Differentiable):\n",
    "    def __init__(self):\n",
    "        super().__init__()\n",
    "        self.theta = None\n",
    "        \n",
    "    def __call__(self, **kwargs):\n",
    "        return self.forward(X)\n",
    "    \n",
    "    def backward(self, **kawrgs):\n",
    "        \n",
    "        partial_grad = self.state * (1 - self.state)\n",
    "        \n",
    "        return partial_grad\n",
    "    \n",
    "    def forward(self, **kwargs):\n",
    "        \n",
    "        y_pred = np.exp(kwargs['Z']) / np.sum(np.exp(kwargs['Z']), axis = 0)\n",
    "        self.state = y_pred\n",
    "        return y_pred"
   ]
  },
  {
   "cell_type": "code",
   "execution_count": 15,
   "metadata": {},
   "outputs": [],
   "source": [
    "class Perceptron(Differentiable):\n",
    "    def __init__(self, dims):\n",
    "        super().__init__()\n",
    "        \n",
    "        self.dims = dims\n",
    "        \n",
    "        self.layer1 = Linear(dim = dims[0]) # linear function of layer 1\n",
    "        self.layer1_act = Activation() # activation function of layer 1\n",
    "        self.output = Linear(dim = dims[1]) # linear function of the output layer\n",
    "        self.output_act = Softmax() # activation function of the output layer\n",
    "        \n",
    "    def __call__(self, **kwargs):\n",
    "        return self.forward(X)\n",
    "    \n",
    "    def backward(self, **kwargs):\n",
    "        \n",
    "        loss_grad = kwargs['loss_grad']\n",
    "        \n",
    "        partial_grad1 = np.dot(loss_grad * self.output_act.backward() * self.layer1_act.backward(), self.layer1.backward())\n",
    "        partial_grad2 = np.dot(loss_grad * self.output_act.backward(), self.output.backward())\n",
    "        \n",
    "        grads = {'dW1' : partial_grad1, 'dW2' : partial_grad2}\n",
    "        \n",
    "        return grads\n",
    "    \n",
    "    def forward(self, **kwargs):\n",
    "        \n",
    "        X = kwargs['X']\n",
    "        \n",
    "        Z1 = self.layer1(X)\n",
    "        A1 = self.layer1_act.forward(Z = Z1)\n",
    "        Z2 = self.output(A1)\n",
    "        A2 = self.output_act.forward(Z = Z2)\n",
    "        \n",
    "        self.state = A2\n",
    "        \n",
    "        y_pred = A2\n",
    "        \n",
    "        return y_pred\n",
    "    \n",
    "    \n",
    "    def update_parameters(self, learning_rate, grads):\n",
    "        \n",
    "        self.parameters = {'W1' : self.layer1.theta, 'W2' : self.output.theta}\n",
    "        \n",
    "        self.parameters['W1'] = model.parameters['W1'] - learning_rate * grads['dW1']\n",
    "        self.parameters['W2'] = model.parameters['W2'] - learning_rate * grads['dW2']\n",
    "        \n",
    "        self.layer1.theta = self.parameters['W1']\n",
    "        self.output.theta = self.parameters['W2']"
   ]
  },
  {
   "cell_type": "code",
   "execution_count": 16,
   "metadata": {},
   "outputs": [],
   "source": [
    "def train_loop(X, y, model, loss_fn, epochs=100, learning_rate = 0.0001):\n",
    "    \n",
    "    loss_history = list()\n",
    "    pbar = tqdm(total = epochs)\n",
    "    grads = {'dW1' : None, 'dW2' : None}\n",
    "    \n",
    "    for epoch in range(epochs):\n",
    "        \n",
    "        y_pred = model.forward(X = X_train)\n",
    "        \n",
    "        loss_value = loss_fn.forward(y = Y_train, y_pred = y_pred)\n",
    "        \n",
    "        loss_grad = loss_fn.backward()\n",
    "        \n",
    "        grads['dW1'] = model.backward(loss_grad = loss_grad)['dW1']\n",
    "        grads['dW2'] = model.backward(loss_grad = loss_grad)['dW2']\n",
    "        \n",
    "        model.update_parameters(learning_rate, grads)\n",
    "        \n",
    "        loss_history.append(loss_value)\n",
    "        pbar.update(1)\n",
    "        pbar.set_postfix({'loss': loss_value})\n",
    "        \n",
    "    pbar.close()\n",
    "    return loss_history"
   ]
  },
  {
   "cell_type": "code",
   "execution_count": 17,
   "metadata": {},
   "outputs": [],
   "source": [
    "X_train = x_train.T\n",
    "Y_train = y_train.T\n",
    "\n",
    "X_valid = x_valid.T\n",
    "Y_valid = y_valid.T\n",
    "\n",
    "X_test = x_test.T\n",
    "Y_test = y_test.T"
   ]
  },
  {
   "cell_type": "code",
   "execution_count": 18,
   "metadata": {},
   "outputs": [
    {
     "name": "stderr",
     "output_type": "stream",
     "text": [
      "100%|████████████████████████████████████████████████████████████████| 2/2 [00:01<00:00,  1.46it/s, loss=2.3]\n"
     ]
    },
    {
     "data": {
      "text/plain": [
       "[<matplotlib.lines.Line2D at 0x2888092a7f0>]"
      ]
     },
     "execution_count": 18,
     "metadata": {},
     "output_type": "execute_result"
    },
    {
     "data": {
      "image/png": "[encoded data removed]",
      "text/plain": [
       "<Figure size 432x288 with 1 Axes>"
      ]
     },
     "metadata": {
      "needs_background": "light"
     },
     "output_type": "display_data"
    }
   ],
   "source": [
    "loss_fn = loss()\n",
    "\n",
    "dims = [(1, 784), (10, 1)]\n",
    "\n",
    "model = Perceptron(dims)\n",
    "loss_history = train_loop(X_train, Y_train, model, loss_fn, epochs = 2, learning_rate = 0.00001)\n",
    "\n",
    "plt.plot(loss_history)"
   ]
  },
  {
   "cell_type": "code",
   "execution_count": 19,
   "metadata": {},
   "outputs": [],
   "source": [
    "Y_pred = model.forward(X = x_test, y = Y_test)"
   ]
  },
  {
   "cell_type": "code",
   "execution_count": 20,
   "metadata": {},
   "outputs": [
    {
     "data": {
      "text/plain": [
       "array([[0.1       , 0.1       , 0.1       , ..., 0.1       , 0.1       ,\n",
       "        0.1       ],\n",
       "       [0.10000002, 0.10000002, 0.10000002, ..., 0.10000002, 0.10000002,\n",
       "        0.10000002],\n",
       "       [0.1       , 0.1       , 0.1       , ..., 0.1       , 0.1       ,\n",
       "        0.1       ],\n",
       "       ...,\n",
       "       [0.10000001, 0.10000001, 0.10000001, ..., 0.10000001, 0.10000001,\n",
       "        0.10000001],\n",
       "       [0.09999999, 0.09999999, 0.09999999, ..., 0.09999999, 0.09999999,\n",
       "        0.09999999],\n",
       "       [0.1       , 0.1       , 0.1       , ..., 0.1       , 0.1       ,\n",
       "        0.1       ]])"
      ]
     },
     "execution_count": 20,
     "metadata": {},
     "output_type": "execute_result"
    }
   ],
   "source": [
    "Y_pred"
   ]
  },
  {
   "cell_type": "code",
   "execution_count": 21,
   "metadata": {},
   "outputs": [],
   "source": [
    "Y_pred = np.argmax(Y_pred, axis = 0)"
   ]
  },
  {
   "cell_type": "code",
   "execution_count": 22,
   "metadata": {},
   "outputs": [
    {
     "data": {
      "text/plain": [
       "array([1, 1, 1, ..., 1, 1, 1], dtype=int64)"
      ]
     },
     "execution_count": 22,
     "metadata": {},
     "output_type": "execute_result"
    }
   ],
   "source": [
    "Y_pred"
   ]
  }
 ],
 "metadata": {
  "kernelspec": {
   "display_name": "Python 3",
   "language": "python",
   "name": "python3"
  },
  "language_info": {
   "codemirror_mode": {
    "name": "ipython",
    "version": 3
   },
   "file_extension": ".py",
   "mimetype": "text/x-python",
   "name": "python",
   "nbconvert_exporter": "python",
   "pygments_lexer": "ipython3",
   "version": "3.8.6"
  }
 },
 "nbformat": 4,
 "nbformat_minor": 4
}

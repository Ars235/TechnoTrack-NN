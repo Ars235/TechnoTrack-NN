{
 "cells": [
  {
   "cell_type": "code",
   "execution_count": 1,
   "metadata": {},
   "outputs": [],
   "source": [
    "import torch\n",
    "import torch.nn.functional as F\n",
    "import torchvision\n",
    "import numpy as np\n",
    "import matplotlib.pyplot as plt\n",
    "from typing import Tuple, List, Type, Dict, Any"
   ]
  },
  {
   "cell_type": "code",
   "execution_count": 2,
   "metadata": {},
   "outputs": [],
   "source": [
    "np.random.seed(0)"
   ]
  },
  {
   "cell_type": "code",
   "execution_count": 3,
   "metadata": {},
   "outputs": [],
   "source": [
    "class Perceptron(torch.nn.Module):\n",
    "    \n",
    "    def __init__(self, \n",
    "                 input_resolution: Tuple[int, int] = (28, 28),\n",
    "                 input_channels: int = 1, \n",
    "                 hidden_layer_features: List[int] = [256, 256, 256],\n",
    "                 activation: Type[torch.nn.Module] = torch.nn.Tanh,\n",
    "                 num_classes: int = 10):\n",
    "        \n",
    "        super().__init__()\n",
    "        \n",
    "        self.input_resolution = input_resolution\n",
    "        self.input_channels = input_channels\n",
    "        self.hidden_layer_features = hidden_layer_features\n",
    "        self.activation = activation\n",
    "        self.num_classes = num_classes\n",
    "        \n",
    "        # Layers:\n",
    "        self.fc1 = torch.nn.Linear(self.input_resolution[0]*self.input_resolution[1], 100)\n",
    "        self.fc2 = torch.nn.Linear(100, self.num_classes)\n",
    "        \n",
    "    def forward(self, X):\n",
    "        \n",
    "        X = self.fc1(X)\n",
    "        X = F.tanh(X)\n",
    "        \n",
    "        X = self.fc2(X)\n",
    "        output = F.softmax(X, dim = 1)\n",
    "        \n",
    "        return output"
   ]
  },
  {
   "cell_type": "code",
   "execution_count": 4,
   "metadata": {},
   "outputs": [
    {
     "name": "stdout",
     "output_type": "stream",
     "text": [
      "Perceptron(\n",
      "  (fc1): Linear(in_features=784, out_features=100, bias=True)\n",
      "  (fc2): Linear(in_features=100, out_features=10, bias=True)\n",
      ")\n",
      "Total number of trainable parameters 79510\n"
     ]
    }
   ],
   "source": [
    "model = Perceptron()\n",
    "print(model)\n",
    "print('Total number of trainable parameters', \n",
    "      sum(p.numel() for p in model.parameters() if p.requires_grad))"
   ]
  },
  {
   "cell_type": "code",
   "execution_count": null,
   "metadata": {},
   "outputs": [],
   "source": []
  }
 ],
 "metadata": {
  "kernelspec": {
   "display_name": "Python 3",
   "language": "python",
   "name": "python3"
  },
  "language_info": {
   "codemirror_mode": {
    "name": "ipython",
    "version": 3
   },
   "file_extension": ".py",
   "mimetype": "text/x-python",
   "name": "python",
   "nbconvert_exporter": "python",
   "pygments_lexer": "ipython3",
   "version": "3.8.4"
  }
 },
 "nbformat": 4,
 "nbformat_minor": 4
}

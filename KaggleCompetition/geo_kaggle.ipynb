{
 "cells": [
  {
   "cell_type": "code",
   "execution_count": 12,
   "metadata": {},
   "outputs": [
    {
     "ename": "ValueError",
     "evalue": "module functions cannot set METH_CLASS or METH_STATIC",
     "output_type": "error",
     "traceback": [
      "\u001b[1;31m---------------------------------------------------------------------------\u001b[0m",
      "\u001b[1;31mValueError\u001b[0m                                Traceback (most recent call last)",
      "\u001b[1;32m<ipython-input-12-dcc8d205ebcd>\u001b[0m in \u001b[0;36m<module>\u001b[1;34m\u001b[0m\n\u001b[1;32m----> 1\u001b[1;33m \u001b[1;32mimport\u001b[0m \u001b[0mtorch\u001b[0m\u001b[1;33m\u001b[0m\u001b[1;33m\u001b[0m\u001b[0m\n\u001b[0m\u001b[0;32m      2\u001b[0m \u001b[1;32mimport\u001b[0m \u001b[0mtorch\u001b[0m\u001b[1;33m.\u001b[0m\u001b[0mnn\u001b[0m\u001b[1;33m.\u001b[0m\u001b[0mfunctional\u001b[0m \u001b[1;32mas\u001b[0m \u001b[0mF\u001b[0m\u001b[1;33m\u001b[0m\u001b[1;33m\u001b[0m\u001b[0m\n\u001b[0;32m      3\u001b[0m \u001b[1;32mimport\u001b[0m \u001b[0mtorchvision\u001b[0m\u001b[1;33m.\u001b[0m\u001b[0mtransforms\u001b[0m \u001b[1;32mas\u001b[0m \u001b[0mtf\u001b[0m\u001b[1;33m\u001b[0m\u001b[1;33m\u001b[0m\u001b[0m\n\u001b[0;32m      4\u001b[0m \u001b[1;32mimport\u001b[0m \u001b[0mnumpy\u001b[0m \u001b[1;32mas\u001b[0m \u001b[0mnp\u001b[0m\u001b[1;33m\u001b[0m\u001b[1;33m\u001b[0m\u001b[0m\n\u001b[0;32m      5\u001b[0m \u001b[1;32mimport\u001b[0m \u001b[0mpandas\u001b[0m \u001b[1;32mas\u001b[0m \u001b[0mpd\u001b[0m\u001b[1;33m\u001b[0m\u001b[1;33m\u001b[0m\u001b[0m\n",
      "\u001b[1;32mc:\\users\\arsfi\\appdata\\local\\programs\\python\\python38\\lib\\site-packages\\torch\\__init__.py\u001b[0m in \u001b[0;36m<module>\u001b[1;34m\u001b[0m\n\u001b[0;32m    188\u001b[0m     \u001b[1;32mif\u001b[0m \u001b[0mUSE_GLOBAL_DEPS\u001b[0m\u001b[1;33m:\u001b[0m\u001b[1;33m\u001b[0m\u001b[1;33m\u001b[0m\u001b[0m\n\u001b[0;32m    189\u001b[0m         \u001b[0m_load_global_deps\u001b[0m\u001b[1;33m(\u001b[0m\u001b[1;33m)\u001b[0m\u001b[1;33m\u001b[0m\u001b[1;33m\u001b[0m\u001b[0m\n\u001b[1;32m--> 190\u001b[1;33m     \u001b[1;32mfrom\u001b[0m \u001b[0mtorch\u001b[0m\u001b[1;33m.\u001b[0m\u001b[0m_C\u001b[0m \u001b[1;32mimport\u001b[0m \u001b[1;33m*\u001b[0m\u001b[1;33m\u001b[0m\u001b[1;33m\u001b[0m\u001b[0m\n\u001b[0m\u001b[0;32m    191\u001b[0m \u001b[1;33m\u001b[0m\u001b[0m\n\u001b[0;32m    192\u001b[0m \u001b[1;31m# Appease the type checker; ordinarily this binding is inserted by the\u001b[0m\u001b[1;33m\u001b[0m\u001b[1;33m\u001b[0m\u001b[1;33m\u001b[0m\u001b[0m\n",
      "\u001b[1;31mValueError\u001b[0m: module functions cannot set METH_CLASS or METH_STATIC"
     ]
    }
   ],
   "source": [
    "import torch\n",
    "import torch.nn.functional as F\n",
    "import torchvision.transforms as tf\n",
    "import numpy as np\n",
    "import pandas as pd\n",
    "import matplotlib.pyplot as plt\n",
    "import seaborn as sns\n",
    "import pickle\n",
    "import datetime\n",
    "import os\n",
    "from timeit import default_timer as timer\n",
    "from typing import Tuple, List, Type, Dict, Any"
   ]
  },
  {
   "cell_type": "markdown",
   "metadata": {},
   "source": [
    "##  Load and examine the data"
   ]
  },
  {
   "cell_type": "code",
   "execution_count": null,
   "metadata": {},
   "outputs": [],
   "source": [
    "with open('./geo_kaggle_data/index.pkl', 'rb') as f:\n",
    "    data_index = pickle.load(f)\n",
    "data_index[1:3]"
   ]
  },
  {
   "cell_type": "code",
   "execution_count": null,
   "metadata": {},
   "outputs": [],
   "source": [
    "dataframe = pd.DataFrame(data_index)"
   ]
  },
  {
   "cell_type": "code",
   "execution_count": null,
   "metadata": {},
   "outputs": [],
   "source": [
    "dataframe.head()"
   ]
  },
  {
   "cell_type": "code",
   "execution_count": null,
   "metadata": {},
   "outputs": [],
   "source": [
    "dataframe['observed_TCC'].describe()"
   ]
  },
  {
   "cell_type": "code",
   "execution_count": null,
   "metadata": {},
   "outputs": [],
   "source": [
    "plt.figure(figsize = (10, 10))\n",
    "sns.histplot(dataframe, x = 'observed_TCC', hue = 'mission', multiple = 'stack')"
   ]
  },
  {
   "cell_type": "markdown",
   "metadata": {},
   "source": [
    "We can see that the data is skewed. It might be useful to apply augmentation to all labels except 8.  "
   ]
  },
  {
   "cell_type": "code",
   "execution_count": null,
   "metadata": {},
   "outputs": [],
   "source": [
    "dataframe.groupby(by = 'mission').mean()['observed_TCC']"
   ]
  },
  {
   "cell_type": "markdown",
   "metadata": {},
   "source": [
    "Check labels of mission ```AI49```, because all of them has label *8*, which is kinda sus."
   ]
  },
  {
   "cell_type": "code",
   "execution_count": null,
   "metadata": {},
   "outputs": [],
   "source": [
    "dataframe.loc[(dataframe['mission'] == 'AI49'), 'observed_TCC'].describe()"
   ]
  },
  {
   "cell_type": "markdown",
   "metadata": {},
   "source": [
    "So the whole data of ```AI49``` is annotated with *8*  \n",
    "But on photos it seems to have label 0, 1 or 2, so the whole data of ```AI49``` is misslabeled. It has only 160 samples, hence we can drop it without dealing any serious damage to the model."
   ]
  },
  {
   "cell_type": "markdown",
   "metadata": {},
   "source": [
    "I'll use only columns ```jpg_filename```, ```mission```, ```observations_dt```, ```observed_TCC```, beacause others are no use for the model."
   ]
  },
  {
   "cell_type": "code",
   "execution_count": null,
   "metadata": {},
   "outputs": [],
   "source": [
    "dataframe = dataframe[['jpg_filename', 'mission', 'observations_dt', 'observed_TCC']]"
   ]
  },
  {
   "cell_type": "code",
   "execution_count": null,
   "metadata": {},
   "outputs": [],
   "source": [
    "dataframe = dataframe.set_index('mission').drop(labels = 'AI49')"
   ]
  },
  {
   "cell_type": "code",
   "execution_count": null,
   "metadata": {},
   "outputs": [],
   "source": [
    "dataframe = dataframe.reset_index(drop = False)"
   ]
  },
  {
   "cell_type": "code",
   "execution_count": null,
   "metadata": {},
   "outputs": [],
   "source": [
    "dataframe"
   ]
  },
  {
   "cell_type": "markdown",
   "metadata": {},
   "source": [
    "## Create custom dataset"
   ]
  },
  {
   "cell_type": "code",
   "execution_count": null,
   "metadata": {},
   "outputs": [],
   "source": [
    "class CustomDataset(torch.utils.data.Dataset):\n",
    "    \n",
    "    def __init__(self, annotations, root_dir, transforms = None):\n",
    "        \n",
    "        super().__init__()\n",
    "        \n",
    "        self.annotations = annotations\n",
    "        self.root_dir = os.path.abspath(root_dir)\n",
    "        self.transforms = transforms\n",
    "        \n",
    "    def __len__(self):\n",
    "        \n",
    "        return len(self.annotations)\n",
    "        \n",
    "    def __getitem__(self, index):\n",
    "        \n",
    "        img_path = os.path.join(self.root_dir, self.annotations.iloc[index]['mission'], 'snapshots', 'snapshots-'+str((self.annotations.iloc[index]['observations_dt']).date()), self.annotations.iloc[index]['jpg_filename'])\n",
    "        image = plt.imread(img_path)\n",
    "        label = torch.tensor(int(self.annotations.iloc[index]['observed_TCC']))\n",
    "        \n",
    "        if self.transforms:\n",
    "            image = self.transforms(image)\n",
    "    \n",
    "            \n",
    "        return (image, label)"
   ]
  },
  {
   "cell_type": "code",
   "execution_count": null,
   "metadata": {},
   "outputs": [],
   "source": [
    "transforms = tf.Compose([tf.ToPILImage(), tf.Resize([256, 256]), tf.RandomHorizontalFlip(), tf.RandomVerticalFlip(), tf.RandomRotation(20), tf.ToTensor()])"
   ]
  },
  {
   "cell_type": "code",
   "execution_count": null,
   "metadata": {},
   "outputs": [],
   "source": [
    "SkyData = CustomDataset(dataframe, root_dir = 'geo_kaggle_data', transforms = transforms)"
   ]
  },
  {
   "cell_type": "code",
   "execution_count": null,
   "metadata": {
    "scrolled": false
   },
   "outputs": [],
   "source": [
    "SkyData[254]"
   ]
  },
  {
   "cell_type": "code",
   "execution_count": null,
   "metadata": {},
   "outputs": [],
   "source": [
    "fig, axes = plt.subplots(nrows=3, ncols=3, figsize=(10, 10))\n",
    "for i, row in enumerate(axes):\n",
    "    for j, ax in enumerate(row):\n",
    "        sample, label = SkyData[i*325+j*13122]\n",
    "        ax.imshow(sample.cpu().numpy().transpose(1, 2, 0))\n",
    "        ax.set_title('Label: {}'.format(int(label)))"
   ]
  },
  {
   "cell_type": "code",
   "execution_count": null,
   "metadata": {},
   "outputs": [],
   "source": [
    "def train_single_epoch(model : torch.nn.Module,\n",
    "                       optimizer : torch.optim.Optimizer,\n",
    "                       loss_function : torch.nn.Module,\n",
    "                       data_loader : torch.utils.data.DataLoader):\n",
    "    \n",
    "    model.train()\n",
    "    loss_total = 0\n",
    "    \n",
    "    for data in data_loader:\n",
    "        \n",
    "        X, y = data\n",
    "        X, y = X.to(device), y.to(device)\n",
    "        \n",
    "        model.zero_grad()\n",
    "        output = model(X)\n",
    "        \n",
    "        loss = loss_function(output, y)\n",
    "        loss_total += loss\n",
    "        loss.backward()\n",
    "        \n",
    "        optimizer.step()\n",
    "    \n",
    "    loss_avg = loss_total / len(data_loader.dataset)\n",
    "    \n",
    "    return loss_avg"
   ]
  },
  {
   "cell_type": "code",
   "execution_count": null,
   "metadata": {},
   "outputs": [],
   "source": [
    "@torch.no_grad()\n",
    "def validate_single_epoch(model: torch.nn.Module,\n",
    "                          loss_function: torch.nn.Module, \n",
    "                          data_loader: torch.utils.data.DataLoader):\n",
    "    \n",
    "    model.eval()\n",
    "    loss_total = 0\n",
    "    accuracy_total = 0\n",
    "    \n",
    "    for data in data_loader:\n",
    "        \n",
    "        X, y = data\n",
    "        X, y = X.to(device), y.to(device)\n",
    "        \n",
    "        output = model(X)\n",
    "        \n",
    "        loss = loss_function(output, y)\n",
    "        loss_total += loss\n",
    "        \n",
    "        y_pred = output.argmax(dim = 1, keepdim = True).to(device)\n",
    "        accuracy_total += y_pred.eq(y.view_as(y_pred)).sum().item()\n",
    "        \n",
    "    loss_avg = loss_total / len(data_loader.dataset)\n",
    "    accuracy_avg = 100.0 * accuracy_total / len(data_loader.dataset)\n",
    "    \n",
    "    return {'loss' : loss_avg, 'accuracy' : accuracy_avg}"
   ]
  },
  {
   "cell_type": "code",
   "execution_count": null,
   "metadata": {},
   "outputs": [],
   "source": [
    "def plot_learning_curves(loss_list, accuracy_list, best_epoch):\n",
    "    \"\"\"\n",
    "    Plot loss evolution on training and dev sets and\n",
    "    accuracy evolution on dev set\n",
    "    \"\"\"\n",
    "    \n",
    "    # Plot learning loss curve\n",
    "    plt.plot(loss_list['train'], label = 'Training set')\n",
    "    plt.plot(loss_list['valid'], label = 'Dev set')\n",
    "    plt.axvline(best_epoch, color = 'r', ls = '--', label = 'Best model')\n",
    "    plt.title('Loss evolution')\n",
    "    plt.xlabel('epochs')\n",
    "    plt.ylabel('Loss')\n",
    "    plt.legend()\n",
    "    plt.show()\n",
    "    # Plot accuracy curve         \n",
    "    plt.plot(accuracy_list, color = 'g', label = 'Dev set')\n",
    "    plt.axvline(best_epoch, color = 'r', ls = '--', label = 'Best model')\n",
    "    plt.title('Accuracy evolution on validation set')\n",
    "    plt.xlabel('epochs')\n",
    "    plt.ylabel('Accuracy')\n",
    "    plt.legend()\n",
    "    plt.show()"
   ]
  },
  {
   "cell_type": "code",
   "execution_count": null,
   "metadata": {},
   "outputs": [],
   "source": [
    "def train_model(model: torch.nn.Module, \n",
    "                train_dataset: torch.utils.data.Dataset,\n",
    "                valid_dataset: torch.utils.data.Dataset,\n",
    "                loss_function: torch.nn.Module = torch.nn.CrossEntropyLoss(),\n",
    "                optimizer_class: Type[torch.optim.Optimizer] = torch.optim,\n",
    "                optimizer_params: Dict = {},\n",
    "                initial_lr = 0.01,\n",
    "                lr_scheduler_class: Any = torch.optim.lr_scheduler.ReduceLROnPlateau,\n",
    "                lr_scheduler_params: Dict = {},\n",
    "                batch_size = 64,\n",
    "                max_epochs = 1000,\n",
    "                early_stopping_patience = 20, \n",
    "                best_model_root = './best_model.pth'):\n",
    "    \n",
    "    \n",
    "    optimizer = torch.optim.Adam(model.parameters(), lr=initial_lr, **optimizer_params)\n",
    "    lr_scheduler = lr_scheduler_class(optimizer, **lr_scheduler_params)\n",
    "    \n",
    "    train_loader = torch.utils.data.DataLoader(train_dataset, shuffle=True, batch_size=batch_size, pin_memory = True, num_workers = 1)\n",
    "    valid_loader = torch.utils.data.DataLoader(valid_dataset, batch_size=batch_size, num_workers = 1)\n",
    "\n",
    "    best_valid_loss = None\n",
    "    best_epoch = None\n",
    "    loss_list = {'train' : list(), 'valid' : list()}\n",
    "    accuracy_list = list()\n",
    "    \n",
    "    for epoch in range(max_epochs):\n",
    "        \n",
    "        print(f'Epoch {epoch}')\n",
    "        \n",
    "        start = timer()\n",
    "        \n",
    "        train_loss = train_single_epoch(model, optimizer, loss_function, train_loader)\n",
    "        \n",
    "        # Evaluate perfomance on the training set\n",
    "        loss_list['train'].append(train_loss)\n",
    "        \n",
    "        # Evaluate perfomance on the cross-validation set\n",
    "        valid_metrics = validate_single_epoch(model, loss_function, valid_loader)\n",
    "        loss_list['valid'].append(valid_metrics['loss'])\n",
    "        accuracy_list.append(valid_metrics['accuracy'])\n",
    "        \n",
    "        print('time:', timer() - start)\n",
    "        print(f'Validation metrics: \\n{valid_metrics}')\n",
    "\n",
    "        lr_scheduler.step(valid_metrics['loss'])\n",
    "        \n",
    "        if best_valid_loss is None or best_valid_loss > valid_metrics['loss']:\n",
    "            print(f'-----Best model yet, saving-----')\n",
    "            best_valid_loss = valid_metrics['loss']\n",
    "            best_epoch = epoch\n",
    "            torch.save(model, best_model_root)\n",
    "            \n",
    "        if epoch - best_epoch > early_stopping_patience:\n",
    "            print('Early stopping triggered')\n",
    "            plot_learning_curves(loss_list, accuracy_list, best_epoch)\n",
    "            return"
   ]
  },
  {
   "cell_type": "markdown",
   "metadata": {},
   "source": [
    "## Create a model"
   ]
  },
  {
   "cell_type": "code",
   "execution_count": null,
   "metadata": {},
   "outputs": [],
   "source": [
    "if torch.cuda.is_available():\n",
    "    device = torch.device(\"cuda:0\")\n",
    "    print('Using GPU', f'({torch.cuda.get_device_name()})')\n",
    "else:\n",
    "    device = torch.device('cpu')\n",
    "    print('Using CPU')"
   ]
  },
  {
   "cell_type": "code",
   "execution_count": null,
   "metadata": {},
   "outputs": [],
   "source": [
    "class Net(torch.nn.Module):\n",
    "    \n",
    "    def __init__(self, \n",
    "                 input_resolution: Tuple[int, int] = (512, 512),\n",
    "                 input_channels: int = 1, \n",
    "                 hidden_layer_features: List[int] = [256, 256, 256],\n",
    "                 activation: Type[torch.nn.Module] = torch.nn.Tanh,\n",
    "                 num_classes: int = 9):\n",
    "        \n",
    "        super().__init__()\n",
    "        \n",
    "        self.conv1 = torch.nn.Conv2d(3, 3, 32)\n",
    "        self.conv2 = torch.nn.Conv2d(3, 3, 32, 4)\n",
    "        self.conv3 = torch.nn.Conv2d(3, 3, 7, 7)\n",
    "        \n",
    "        self.fc1 = torch.nn.Linear(7*7*3, 9)\n",
    "        \n",
    "    def forward(self, X):\n",
    "        \n",
    "        X = self.conv1(X)\n",
    "        X = F.relu(X)\n",
    "        \n",
    "        X = self.conv2(X)\n",
    "        X = F.relu(X)\n",
    "        \n",
    "        X = self.conv3(X)\n",
    "        X = F.relu(X)\n",
    "        \n",
    "        X = X.view(-1, 7*7*3)\n",
    "        X = self.fc1(X)\n",
    "        \n",
    "        output = F.log_softmax(X, dim = 1)\n",
    "        \n",
    "        return output"
   ]
  },
  {
   "cell_type": "code",
   "execution_count": null,
   "metadata": {},
   "outputs": [],
   "source": [
    "model = Net()\n",
    "model.to(device)\n",
    "print(model)\n",
    "print('Total number of trainable parameters', \n",
    "      sum(p.numel() for p in model.parameters() if p.requires_grad))"
   ]
  },
  {
   "cell_type": "code",
   "execution_count": null,
   "metadata": {},
   "outputs": [],
   "source": [
    "train_dataset, valid_dataset = torch.utils.data.random_split(SkyData, [len(SkyData) - 15000, 15000])"
   ]
  },
  {
   "cell_type": "markdown",
   "metadata": {},
   "source": [
    "### Train"
   ]
  },
  {
   "cell_type": "code",
   "execution_count": null,
   "metadata": {},
   "outputs": [],
   "source": [
    "train_model(model, \n",
    "            train_dataset=train_dataset, \n",
    "            valid_dataset=valid_dataset, \n",
    "            loss_function=torch.nn.CrossEntropyLoss(), \n",
    "            initial_lr=0.01, max_epochs = 500, batch_size = 1024)"
   ]
  }
 ],
 "metadata": {
  "kernelspec": {
   "display_name": "Python 3",
   "language": "python",
   "name": "python3"
  },
  "language_info": {
   "codemirror_mode": {
    "name": "ipython",
    "version": 3
   },
   "file_extension": ".py",
   "mimetype": "text/x-python",
   "name": "python",
   "nbconvert_exporter": "python",
   "pygments_lexer": "ipython3",
   "version": "3.8.4"
  }
 },
 "nbformat": 4,
 "nbformat_minor": 4
}
